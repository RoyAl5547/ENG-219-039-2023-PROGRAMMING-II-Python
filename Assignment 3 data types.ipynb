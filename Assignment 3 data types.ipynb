{
 "cells": [
  {
   "cell_type": "markdown",
   "id": "0f3f327e",
   "metadata": {
    "papermill": {
     "duration": 0.006041,
     "end_time": "2025-02-24T17:12:30.699452",
     "exception": false,
     "start_time": "2025-02-24T17:12:30.693411",
     "status": "completed"
    },
    "tags": []
   },
   "source": [
    "**This notebook is an exercise in the [Intro to Programming](https://www.kaggle.com/learn/intro-to-programming) course.  You can reference the tutorial at [this link](https://www.kaggle.com/alexisbcook/data-types).**\n",
    "\n",
    "---\n"
   ]
  },
  {
   "cell_type": "markdown",
   "id": "896c2cba",
   "metadata": {
    "papermill": {
     "duration": 0.005165,
     "end_time": "2025-02-24T17:12:30.710152",
     "exception": false,
     "start_time": "2025-02-24T17:12:30.704987",
     "status": "completed"
    },
    "tags": []
   },
   "source": [
    "In the tutorial, you learned about four different data types: floats, integers, strings, and booleans.  In this exercise, you'll experiment with them.\n",
    "\n",
    "# Set up the notebook\n",
    "\n",
    "Run the next code cell without changes to set up the notebook."
   ]
  },
  {
   "cell_type": "code",
   "execution_count": 1,
   "id": "53653c49",
   "metadata": {
    "execution": {
     "iopub.execute_input": "2025-02-24T17:12:30.722089Z",
     "iopub.status.busy": "2025-02-24T17:12:30.721745Z",
     "iopub.status.idle": "2025-02-24T17:12:31.791539Z",
     "shell.execute_reply": "2025-02-24T17:12:31.790473Z"
    },
    "papermill": {
     "duration": 1.077966,
     "end_time": "2025-02-24T17:12:31.793432",
     "exception": false,
     "start_time": "2025-02-24T17:12:30.715466",
     "status": "completed"
    },
    "tags": []
   },
   "outputs": [
    {
     "name": "stdout",
     "output_type": "stream",
     "text": [
      "Setup complete.\n"
     ]
    }
   ],
   "source": [
    "# Set up the exercise\n",
    "from learntools.core import binder\n",
    "binder.bind(globals())\n",
    "from learntools.intro_to_programming.ex3 import *\n",
    "print('Setup complete.')"
   ]
  },
  {
   "cell_type": "markdown",
   "id": "8a7073cf",
   "metadata": {
    "papermill": {
     "duration": 0.005007,
     "end_time": "2025-02-24T17:12:31.804308",
     "exception": false,
     "start_time": "2025-02-24T17:12:31.799301",
     "status": "completed"
    },
    "tags": []
   },
   "source": [
    "# Question 1\n",
    "\n",
    "You have seen how to convert a float to an integer with the `int` function.  Try this out yourself by running the code cell below."
   ]
  },
  {
   "cell_type": "code",
   "execution_count": 2,
   "id": "19cc1723",
   "metadata": {
    "execution": {
     "iopub.execute_input": "2025-02-24T17:12:31.816316Z",
     "iopub.status.busy": "2025-02-24T17:12:31.815823Z",
     "iopub.status.idle": "2025-02-24T17:12:31.821825Z",
     "shell.execute_reply": "2025-02-24T17:12:31.820330Z"
    },
    "papermill": {
     "duration": 0.013955,
     "end_time": "2025-02-24T17:12:31.823538",
     "exception": false,
     "start_time": "2025-02-24T17:12:31.809583",
     "status": "completed"
    },
    "tags": []
   },
   "outputs": [
    {
     "name": "stdout",
     "output_type": "stream",
     "text": [
      "1.0\n",
      "<class 'float'>\n",
      "1\n",
      "<class 'int'>\n"
     ]
    }
   ],
   "source": [
    "# Define a float\n",
    "y = 1.\n",
    "print(y)\n",
    "print(type(y))\n",
    "\n",
    "# Convert float to integer with the int function\n",
    "z = int(y)\n",
    "print(z)\n",
    "print(type(z))"
   ]
  },
  {
   "cell_type": "markdown",
   "id": "0abd54ae",
   "metadata": {
    "papermill": {
     "duration": 0.006519,
     "end_time": "2025-02-24T17:12:31.835407",
     "exception": false,
     "start_time": "2025-02-24T17:12:31.828888",
     "status": "completed"
    },
    "tags": []
   },
   "source": [
    "In this case, the float you are using has no numbers after the decimal.  \n",
    "- But what happens when you try to convert a float with a fractional part to an integer?  \n",
    "- How does the outcome of the `int` function change for positive and negative numbers?\n",
    "\n",
    "Use the next code cell to investigate and answer these questions.  Feel free to add or remove any lines of code -- it is your workspace!"
   ]
  },
  {
   "cell_type": "code",
   "execution_count": 3,
   "id": "049b3b35",
   "metadata": {
    "execution": {
     "iopub.execute_input": "2025-02-24T17:12:31.847412Z",
     "iopub.status.busy": "2025-02-24T17:12:31.847043Z",
     "iopub.status.idle": "2025-02-24T17:12:31.853042Z",
     "shell.execute_reply": "2025-02-24T17:12:31.851817Z"
    },
    "papermill": {
     "duration": 0.014125,
     "end_time": "2025-02-24T17:12:31.854958",
     "exception": false,
     "start_time": "2025-02-24T17:12:31.840833",
     "status": "completed"
    },
    "tags": []
   },
   "outputs": [
    {
     "name": "stdout",
     "output_type": "stream",
     "text": [
      "1\n",
      "1\n",
      "-3\n",
      "-2\n"
     ]
    }
   ],
   "source": [
    "# Uncomment and run this code to get started!\n",
    "print(int(1.2321))\n",
    "print(int(1.747))\n",
    "print(int(-3.94535))\n",
    "print(int(-2.19774))"
   ]
  },
  {
   "cell_type": "markdown",
   "id": "d210da17",
   "metadata": {
    "papermill": {
     "duration": 0.005315,
     "end_time": "2025-02-24T17:12:31.866267",
     "exception": false,
     "start_time": "2025-02-24T17:12:31.860952",
     "status": "completed"
    },
    "tags": []
   },
   "source": [
    "Once you have an answer, run the code cell below to see the solution.  Viewing the solution will give you credit for answering the problem."
   ]
  },
  {
   "cell_type": "code",
   "execution_count": 4,
   "id": "88e0570d",
   "metadata": {
    "execution": {
     "iopub.execute_input": "2025-02-24T17:12:31.878482Z",
     "iopub.status.busy": "2025-02-24T17:12:31.878092Z",
     "iopub.status.idle": "2025-02-24T17:12:31.886373Z",
     "shell.execute_reply": "2025-02-24T17:12:31.885346Z"
    },
    "papermill": {
     "duration": 0.016204,
     "end_time": "2025-02-24T17:12:31.887907",
     "exception": false,
     "start_time": "2025-02-24T17:12:31.871703",
     "status": "completed"
    },
    "tags": []
   },
   "outputs": [
    {
     "data": {
      "application/javascript": [
       "parent.postMessage({\"jupyterEvent\": \"custom.exercise_interaction\", \"data\": {\"outcomeType\": 1, \"valueTowardsCompletion\": 0.2, \"interactionType\": 1, \"questionType\": 4, \"questionId\": \"1_FloatToInt\", \"learnToolsVersion\": \"0.3.4\", \"failureMessage\": \"\", \"exceptionClass\": \"\", \"trace\": \"\"}}, \"*\")"
      ],
      "text/plain": [
       "<IPython.core.display.Javascript object>"
      ]
     },
     "metadata": {},
     "output_type": "display_data"
    },
    {
     "data": {
      "text/markdown": [
       "<span style=\"color:#33cc33\">Correct:</span> \n",
       "\n",
       "Negative floats are always rounded UP to the closest integer (for instance, both -1.1 and -1.9 are rounded up to -1). Positive floats are always rounded DOWN to the closest integer (for instance, 2.1 and 2.9 are rounded down to 2)."
      ],
      "text/plain": [
       "Correct: \n",
       "\n",
       "Negative floats are always rounded UP to the closest integer (for instance, both -1.1 and -1.9 are rounded up to -1). Positive floats are always rounded DOWN to the closest integer (for instance, 2.1 and 2.9 are rounded down to 2)."
      ]
     },
     "metadata": {},
     "output_type": "display_data"
    }
   ],
   "source": [
    "# Check your answer (Run this code cell to receive credit!)\n",
    "q1.check()"
   ]
  },
  {
   "cell_type": "markdown",
   "id": "fa2a9b86",
   "metadata": {
    "papermill": {
     "duration": 0.00553,
     "end_time": "2025-02-24T17:12:31.899433",
     "exception": false,
     "start_time": "2025-02-24T17:12:31.893903",
     "status": "completed"
    },
    "tags": []
   },
   "source": [
    "# Question 2\n",
    "\n",
    "In the tutorial, you learned about booleans (which can take a value of `True` or `False`), in addition to integers, floats, and strings.  For this question, your goal is to determine what happens when you multiply a boolean by any of these data types.  Specifically, \n",
    "- What happens when you multiply an integer or float by `True`?  What happens when you multiply them by `False`?  How does the answer change if the numbers are positive or negative?\n",
    "- What happens when you multiply a string by `True`?  By `False`?\n",
    "\n",
    "Use the next code cell for your investigation. "
   ]
  },
  {
   "cell_type": "code",
   "execution_count": 5,
   "id": "d773925d",
   "metadata": {
    "execution": {
     "iopub.execute_input": "2025-02-24T17:12:31.912087Z",
     "iopub.status.busy": "2025-02-24T17:12:31.911709Z",
     "iopub.status.idle": "2025-02-24T17:12:31.917536Z",
     "shell.execute_reply": "2025-02-24T17:12:31.916371Z"
    },
    "papermill": {
     "duration": 0.01385,
     "end_time": "2025-02-24T17:12:31.919003",
     "exception": false,
     "start_time": "2025-02-24T17:12:31.905153",
     "status": "completed"
    },
    "tags": []
   },
   "outputs": [
    {
     "name": "stdout",
     "output_type": "stream",
     "text": [
      "3\n",
      "-3.1\n",
      "<class 'str'>\n",
      "0\n"
     ]
    }
   ],
   "source": [
    "# Uncomment and run this code to get started!\n",
    "print(3 * True)\n",
    "print(-3.1 * True)\n",
    "print(type(\"abc\" * False))\n",
    "print(len(\"abc\" * False))\n"
   ]
  },
  {
   "cell_type": "markdown",
   "id": "84fd8be4",
   "metadata": {
    "papermill": {
     "duration": 0.005267,
     "end_time": "2025-02-24T17:12:31.930089",
     "exception": false,
     "start_time": "2025-02-24T17:12:31.924822",
     "status": "completed"
    },
    "tags": []
   },
   "source": [
    "Once you have an answer, run the code cell below to see the solution.  Viewing the solution will give you credit for answering the problem."
   ]
  },
  {
   "cell_type": "code",
   "execution_count": 6,
   "id": "2bd84a3f",
   "metadata": {
    "execution": {
     "iopub.execute_input": "2025-02-24T17:12:31.942559Z",
     "iopub.status.busy": "2025-02-24T17:12:31.942181Z",
     "iopub.status.idle": "2025-02-24T17:12:31.949247Z",
     "shell.execute_reply": "2025-02-24T17:12:31.948289Z"
    },
    "papermill": {
     "duration": 0.015103,
     "end_time": "2025-02-24T17:12:31.950859",
     "exception": false,
     "start_time": "2025-02-24T17:12:31.935756",
     "status": "completed"
    },
    "tags": []
   },
   "outputs": [
    {
     "data": {
      "application/javascript": [
       "parent.postMessage({\"jupyterEvent\": \"custom.exercise_interaction\", \"data\": {\"outcomeType\": 1, \"valueTowardsCompletion\": 0.2, \"interactionType\": 1, \"questionType\": 4, \"questionId\": \"2_MultiplyBooleans\", \"learnToolsVersion\": \"0.3.4\", \"failureMessage\": \"\", \"exceptionClass\": \"\", \"trace\": \"\"}}, \"*\")"
      ],
      "text/plain": [
       "<IPython.core.display.Javascript object>"
      ]
     },
     "metadata": {},
     "output_type": "display_data"
    },
    {
     "data": {
      "text/markdown": [
       "<span style=\"color:#33cc33\">Correct:</span> \n",
       "\n",
       "When you multiple an integer or float by a boolean with value `True`, it just returns that same integer or float (and is equivalent to multiplying by 1).  If you multiply an integer or float by a boolean with value `False`, it always returns 0.  This is true for both positive and negative numbers.  If you multiply a string by a boolean with value `True`, it just returns that same string.  And if you multiply a string by a boolean with value `False`, it returns an empty string (or a string with length zero)."
      ],
      "text/plain": [
       "Correct: \n",
       "\n",
       "When you multiple an integer or float by a boolean with value `True`, it just returns that same integer or float (and is equivalent to multiplying by 1).  If you multiply an integer or float by a boolean with value `False`, it always returns 0.  This is true for both positive and negative numbers.  If you multiply a string by a boolean with value `True`, it just returns that same string.  And if you multiply a string by a boolean with value `False`, it returns an empty string (or a string with length zero)."
      ]
     },
     "metadata": {},
     "output_type": "display_data"
    }
   ],
   "source": [
    "# Check your answer (Run this code cell to receive credit!)\n",
    "q2.check()"
   ]
  },
  {
   "cell_type": "markdown",
   "id": "a3bd7df9",
   "metadata": {
    "papermill": {
     "duration": 0.005535,
     "end_time": "2025-02-24T17:12:31.962597",
     "exception": false,
     "start_time": "2025-02-24T17:12:31.957062",
     "status": "completed"
    },
    "tags": []
   },
   "source": [
    "# Question 3\n",
    "\n",
    "In this question, you will build off your work from the previous exercise to write a function that estimates the value of a house.\n",
    "\n",
    "Use the next code cell to create a function `get_expected_cost` that takes as input three variables:\n",
    "- `beds` - number of bedrooms (data type float)\n",
    "- `baths` - number of bathrooms (data type float)\n",
    "- `has_basement` - whether or not the house has a basement (data type boolean)\n",
    "\n",
    "It should return the expected cost of a house with those characteristics. Assume that:\n",
    "- the expected cost for a house with 0 bedrooms and 0 bathrooms, and no basement is 80000, \n",
    "- each bedroom adds 30000 to the expected cost,\n",
    "- each bathroom adds 10000 to the expected cost, and\n",
    "- a basement adds 40000 to the expected cost.\n",
    "\n",
    "For instance,\n",
    "- a house with 1 bedroom, 1 bathroom, and no basement has an expected cost of 80000 + 30000 + 10000 = 120000.  This value will be calculated with `get_expected_cost(1, 1, False)`.\n",
    "- a house with 2 bedrooms, 1 bathroom, and a basement has an expected cost of 80000 + 2*30000 + 10000 + 40000 = 190000.  This value will be calculated with `get_expected_cost(2, 1, True)`.\n",
    "\n",
    "Remember you can always get a hint by uncommenting `q3.hint()` in the code cell following the next!"
   ]
  },
  {
   "cell_type": "code",
   "execution_count": 7,
   "id": "996d0f04",
   "metadata": {
    "execution": {
     "iopub.execute_input": "2025-02-24T17:12:31.975392Z",
     "iopub.status.busy": "2025-02-24T17:12:31.975024Z",
     "iopub.status.idle": "2025-02-24T17:12:31.982578Z",
     "shell.execute_reply": "2025-02-24T17:12:31.981600Z"
    },
    "papermill": {
     "duration": 0.015763,
     "end_time": "2025-02-24T17:12:31.984123",
     "exception": false,
     "start_time": "2025-02-24T17:12:31.968360",
     "status": "completed"
    },
    "tags": []
   },
   "outputs": [
    {
     "data": {
      "application/javascript": [
       "parent.postMessage({\"jupyterEvent\": \"custom.exercise_interaction\", \"data\": {\"outcomeType\": 1, \"valueTowardsCompletion\": 0.2, \"interactionType\": 1, \"questionType\": 2, \"questionId\": \"3_EstimateHouseValueBool\", \"learnToolsVersion\": \"0.3.4\", \"failureMessage\": \"\", \"exceptionClass\": \"\", \"trace\": \"\"}}, \"*\")"
      ],
      "text/plain": [
       "<IPython.core.display.Javascript object>"
      ]
     },
     "metadata": {},
     "output_type": "display_data"
    },
    {
     "data": {
      "text/markdown": [
       "<span style=\"color:#33cc33\">Correct</span>"
      ],
      "text/plain": [
       "Correct"
      ]
     },
     "metadata": {},
     "output_type": "display_data"
    }
   ],
   "source": [
    "# TODO: Complete the function\n",
    "def get_expected_cost(beds, baths, has_basement):\n",
    "    value = 80000 + beds*30000 + baths*10000 + has_basement*40000\n",
    "    return value\n",
    "\n",
    "# Check your answer \n",
    "q3.check()"
   ]
  },
  {
   "cell_type": "code",
   "execution_count": 8,
   "id": "5d5e3bc4",
   "metadata": {
    "execution": {
     "iopub.execute_input": "2025-02-24T17:12:31.998045Z",
     "iopub.status.busy": "2025-02-24T17:12:31.997726Z",
     "iopub.status.idle": "2025-02-24T17:12:32.002147Z",
     "shell.execute_reply": "2025-02-24T17:12:32.000849Z"
    },
    "papermill": {
     "duration": 0.013316,
     "end_time": "2025-02-24T17:12:32.003910",
     "exception": false,
     "start_time": "2025-02-24T17:12:31.990594",
     "status": "completed"
    },
    "tags": []
   },
   "outputs": [],
   "source": [
    "# Uncomment to see a hint\n",
    "#q3.hint()\n",
    "\n",
    "# Uncomment to view the solution\n",
    "#q3.solution()"
   ]
  },
  {
   "cell_type": "markdown",
   "id": "1ad65ba2",
   "metadata": {
    "papermill": {
     "duration": 0.005848,
     "end_time": "2025-02-24T17:12:32.016293",
     "exception": false,
     "start_time": "2025-02-24T17:12:32.010445",
     "status": "completed"
    },
    "tags": []
   },
   "source": [
    "# Question 4\n",
    "\n",
    "We'll continue our study of boolean arithmetic.  For this question, your task is to provide a description of what happpens when you add booleans. \n",
    "\n",
    "Use the next code cell for your investigation.  Feel free to add or remove any lines of code - use it as your workspace!"
   ]
  },
  {
   "cell_type": "code",
   "execution_count": 9,
   "id": "62f0ddf3",
   "metadata": {
    "execution": {
     "iopub.execute_input": "2025-02-24T17:12:32.030093Z",
     "iopub.status.busy": "2025-02-24T17:12:32.029763Z",
     "iopub.status.idle": "2025-02-24T17:12:32.036055Z",
     "shell.execute_reply": "2025-02-24T17:12:32.035263Z"
    },
    "papermill": {
     "duration": 0.014917,
     "end_time": "2025-02-24T17:12:32.037544",
     "exception": false,
     "start_time": "2025-02-24T17:12:32.022627",
     "status": "completed"
    },
    "tags": []
   },
   "outputs": [
    {
     "name": "stdout",
     "output_type": "stream",
     "text": [
      "0\n",
      "1\n",
      "1\n",
      "2\n",
      "3\n",
      "abc\n",
      "\n"
     ]
    }
   ],
   "source": [
    "print(False + False)\n",
    "print(True + False)\n",
    "print(False + True)\n",
    "print(True + True)\n",
    "print(False + True + True + True)\n",
    "print(\"abc\" * True)\n",
    "print('abc' * False)"
   ]
  },
  {
   "cell_type": "markdown",
   "id": "dcb9fb29",
   "metadata": {
    "papermill": {
     "duration": 0.005953,
     "end_time": "2025-02-24T17:12:32.049772",
     "exception": false,
     "start_time": "2025-02-24T17:12:32.043819",
     "status": "completed"
    },
    "tags": []
   },
   "source": [
    "Once you have an answer, run the code cell below to see the solution.  Viewing the solution will give you credit for answering the problem."
   ]
  },
  {
   "cell_type": "code",
   "execution_count": 10,
   "id": "c7a3657b",
   "metadata": {
    "execution": {
     "iopub.execute_input": "2025-02-24T17:12:32.063805Z",
     "iopub.status.busy": "2025-02-24T17:12:32.063473Z",
     "iopub.status.idle": "2025-02-24T17:12:32.070792Z",
     "shell.execute_reply": "2025-02-24T17:12:32.069823Z"
    },
    "papermill": {
     "duration": 0.016173,
     "end_time": "2025-02-24T17:12:32.072438",
     "exception": false,
     "start_time": "2025-02-24T17:12:32.056265",
     "status": "completed"
    },
    "tags": []
   },
   "outputs": [
    {
     "data": {
      "application/javascript": [
       "parent.postMessage({\"jupyterEvent\": \"custom.exercise_interaction\", \"data\": {\"outcomeType\": 1, \"valueTowardsCompletion\": 0.2, \"interactionType\": 1, \"questionType\": 4, \"questionId\": \"4_AddingBooleans\", \"learnToolsVersion\": \"0.3.4\", \"failureMessage\": \"\", \"exceptionClass\": \"\", \"trace\": \"\"}}, \"*\")"
      ],
      "text/plain": [
       "<IPython.core.display.Javascript object>"
      ]
     },
     "metadata": {},
     "output_type": "display_data"
    },
    {
     "data": {
      "text/markdown": [
       "<span style=\"color:#33cc33\">Correct:</span> \n",
       "\n",
       "When you add booleans, adding `False` is equivalent to adding 0, and adding `True` is equivalent to adding 1."
      ],
      "text/plain": [
       "Correct: \n",
       "\n",
       "When you add booleans, adding `False` is equivalent to adding 0, and adding `True` is equivalent to adding 1."
      ]
     },
     "metadata": {},
     "output_type": "display_data"
    }
   ],
   "source": [
    "# Check your answer (Run this code cell to receive credit!)\n",
    "q4.check()"
   ]
  },
  {
   "cell_type": "markdown",
   "id": "a1cf70da",
   "metadata": {
    "papermill": {
     "duration": 0.006226,
     "end_time": "2025-02-24T17:12:32.085157",
     "exception": false,
     "start_time": "2025-02-24T17:12:32.078931",
     "status": "completed"
    },
    "tags": []
   },
   "source": [
    "# 🌶️ Question 5\n",
    "\n",
    "You own an online shop where you sell rings with custom engravings.  You offer both gold plated and solid gold rings.\n",
    "- Gold plated rings have a base cost of \\\\$50, and you charge \\\\$7 per engraved unit.  \n",
    "- Solid gold rings have a base cost of \\\\$100, and you charge \\\\$10 per engraved unit.\n",
    "- Spaces and punctuation are counted as engraved units.\n",
    "\n",
    "Write a function `cost_of_project()` that takes two arguments:\n",
    "- `engraving` - a Python string with the text of the engraving\n",
    "- `solid_gold` - a Boolean that indicates whether the ring is solid gold\n",
    "\n",
    "It should return the cost of the project.  This question should be fairly challenging, and you may need a hint."
   ]
  },
  {
   "cell_type": "code",
   "execution_count": 11,
   "id": "dde3065a",
   "metadata": {
    "execution": {
     "iopub.execute_input": "2025-02-24T17:12:32.098918Z",
     "iopub.status.busy": "2025-02-24T17:12:32.098587Z",
     "iopub.status.idle": "2025-02-24T17:12:32.106548Z",
     "shell.execute_reply": "2025-02-24T17:12:32.105626Z"
    },
    "papermill": {
     "duration": 0.016663,
     "end_time": "2025-02-24T17:12:32.108039",
     "exception": false,
     "start_time": "2025-02-24T17:12:32.091376",
     "status": "completed"
    },
    "tags": []
   },
   "outputs": [
    {
     "data": {
      "application/javascript": [
       "parent.postMessage({\"jupyterEvent\": \"custom.exercise_interaction\", \"data\": {\"outcomeType\": 1, \"valueTowardsCompletion\": 0.2, \"interactionType\": 1, \"questionType\": 2, \"questionId\": \"5_CustomEngravings\", \"learnToolsVersion\": \"0.3.4\", \"failureMessage\": \"\", \"exceptionClass\": \"\", \"trace\": \"\"}}, \"*\")"
      ],
      "text/plain": [
       "<IPython.core.display.Javascript object>"
      ]
     },
     "metadata": {},
     "output_type": "display_data"
    },
    {
     "data": {
      "text/markdown": [
       "<span style=\"color:#33cc33\">Correct</span>"
      ],
      "text/plain": [
       "Correct"
      ]
     },
     "metadata": {},
     "output_type": "display_data"
    }
   ],
   "source": [
    "def cost_of_project(engraving, solid_gold):\n",
    " \n",
    "    # Cost of gold plated rings\n",
    "\n",
    "    plated_ring = (not solid_gold) * (50 + 7 * len(engraving))\n",
    "\n",
    "    # Cost of solid gold rings\n",
    "\n",
    "    solid_ring = solid_gold * (100 + 10 * len(engraving))\n",
    "    \n",
    "    cost = solid_ring + plated_ring\n",
    "    return cost\n",
    "\n",
    "# Check your answer\n",
    "q5.check()"
   ]
  },
  {
   "cell_type": "code",
   "execution_count": 12,
   "id": "68ba2fc5",
   "metadata": {
    "execution": {
     "iopub.execute_input": "2025-02-24T17:12:32.122472Z",
     "iopub.status.busy": "2025-02-24T17:12:32.122099Z",
     "iopub.status.idle": "2025-02-24T17:12:32.125853Z",
     "shell.execute_reply": "2025-02-24T17:12:32.124829Z"
    },
    "papermill": {
     "duration": 0.012903,
     "end_time": "2025-02-24T17:12:32.127553",
     "exception": false,
     "start_time": "2025-02-24T17:12:32.114650",
     "status": "completed"
    },
    "tags": []
   },
   "outputs": [],
   "source": [
    "# Uncomment to see a hint\n",
    "#q5.hint()\n",
    "\n",
    "# Uncomment to view the solution\n",
    "#q5.solution()"
   ]
  },
  {
   "cell_type": "markdown",
   "id": "4f7d6756",
   "metadata": {
    "papermill": {
     "duration": 0.006638,
     "end_time": "2025-02-24T17:12:32.141183",
     "exception": false,
     "start_time": "2025-02-24T17:12:32.134545",
     "status": "completed"
    },
    "tags": []
   },
   "source": [
    "Run the next code cell to calculate the cost of engraving `Charlie+Denver` on a solid gold ring."
   ]
  },
  {
   "cell_type": "code",
   "execution_count": 13,
   "id": "a332a17c",
   "metadata": {
    "execution": {
     "iopub.execute_input": "2025-02-24T17:12:32.155816Z",
     "iopub.status.busy": "2025-02-24T17:12:32.155478Z",
     "iopub.status.idle": "2025-02-24T17:12:32.160453Z",
     "shell.execute_reply": "2025-02-24T17:12:32.159152Z"
    },
    "papermill": {
     "duration": 0.014254,
     "end_time": "2025-02-24T17:12:32.162148",
     "exception": false,
     "start_time": "2025-02-24T17:12:32.147894",
     "status": "completed"
    },
    "tags": []
   },
   "outputs": [
    {
     "name": "stdout",
     "output_type": "stream",
     "text": [
      "240\n"
     ]
    }
   ],
   "source": [
    "project_one = cost_of_project(\"Charlie+Denver\", True)\n",
    "print(project_one)"
   ]
  },
  {
   "cell_type": "markdown",
   "id": "ddfca65b",
   "metadata": {
    "papermill": {
     "duration": 0.006529,
     "end_time": "2025-02-24T17:12:32.175629",
     "exception": false,
     "start_time": "2025-02-24T17:12:32.169100",
     "status": "completed"
    },
    "tags": []
   },
   "source": [
    "Use the next code cell to calculate the cost of engraving `08/10/2000` on a gold plated ring."
   ]
  },
  {
   "cell_type": "code",
   "execution_count": 14,
   "id": "f8080cba",
   "metadata": {
    "execution": {
     "iopub.execute_input": "2025-02-24T17:12:32.190272Z",
     "iopub.status.busy": "2025-02-24T17:12:32.189886Z",
     "iopub.status.idle": "2025-02-24T17:12:32.194445Z",
     "shell.execute_reply": "2025-02-24T17:12:32.193438Z"
    },
    "papermill": {
     "duration": 0.013807,
     "end_time": "2025-02-24T17:12:32.196200",
     "exception": false,
     "start_time": "2025-02-24T17:12:32.182393",
     "status": "completed"
    },
    "tags": []
   },
   "outputs": [
    {
     "name": "stdout",
     "output_type": "stream",
     "text": [
      "120\n"
     ]
    }
   ],
   "source": [
    "project_two = cost_of_project(\"08/10/2000\", False)\n",
    "print(project_two)"
   ]
  },
  {
   "cell_type": "markdown",
   "id": "f68e351e",
   "metadata": {
    "papermill": {
     "duration": 0.006841,
     "end_time": "2025-02-24T17:12:32.209992",
     "exception": false,
     "start_time": "2025-02-24T17:12:32.203151",
     "status": "completed"
    },
    "tags": []
   },
   "source": [
    "# Keep going\n",
    "\n",
    "Continue to the next lesson to **[learn about conditions and conditional statements](https://www.kaggle.com/alexisbcook/conditions-and-conditional-statements)**."
   ]
  },
  {
   "cell_type": "markdown",
   "id": "30513c4b",
   "metadata": {
    "papermill": {
     "duration": 0.006425,
     "end_time": "2025-02-24T17:12:32.223205",
     "exception": false,
     "start_time": "2025-02-24T17:12:32.216780",
     "status": "completed"
    },
    "tags": []
   },
   "source": [
    "---\n",
    "\n",
    "\n",
    "\n",
    "\n",
    "*Have questions or comments? Visit the [course discussion forum](https://www.kaggle.com/learn/intro-to-programming/discussion) to chat with other learners.*"
   ]
  }
 ],
 "metadata": {
  "kaggle": {
   "accelerator": "none",
   "dataSources": [],
   "isGpuEnabled": false,
   "isInternetEnabled": false,
   "language": "python",
   "sourceType": "notebook"
  },
  "kernelspec": {
   "display_name": "Python 3",
   "language": "python",
   "name": "python3"
  },
  "language_info": {
   "codemirror_mode": {
    "name": "ipython",
    "version": 3
   },
   "file_extension": ".py",
   "mimetype": "text/x-python",
   "name": "python",
   "nbconvert_exporter": "python",
   "pygments_lexer": "ipython3",
   "version": "3.10.12"
  },
  "papermill": {
   "default_parameters": {},
   "duration": 5.041068,
   "end_time": "2025-02-24T17:12:32.848925",
   "environment_variables": {},
   "exception": null,
   "input_path": "__notebook__.ipynb",
   "output_path": "__notebook__.ipynb",
   "parameters": {},
   "start_time": "2025-02-24T17:12:27.807857",
   "version": "2.3.3"
  }
 },
 "nbformat": 4,
 "nbformat_minor": 5
}
