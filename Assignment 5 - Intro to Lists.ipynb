{
 "cells": [
  {
   "cell_type": "markdown",
   "id": "701832a7",
   "metadata": {
    "papermill": {
     "duration": 0.005313,
     "end_time": "2025-02-25T21:16:50.185501",
     "exception": false,
     "start_time": "2025-02-25T21:16:50.180188",
     "status": "completed"
    },
    "tags": []
   },
   "source": [
    "**This notebook is an exercise in the [Intro to Programming](https://www.kaggle.com/learn/intro-to-programming) course.  You can reference the tutorial at [this link](https://www.kaggle.com/alexisbcook/intro-to-lists).**\n",
    "\n",
    "---\n"
   ]
  },
  {
   "cell_type": "markdown",
   "id": "e3b32097",
   "metadata": {
    "papermill": {
     "duration": 0.004114,
     "end_time": "2025-02-25T21:16:50.193696",
     "exception": false,
     "start_time": "2025-02-25T21:16:50.189582",
     "status": "completed"
    },
    "tags": []
   },
   "source": [
    "In the tutorial, you learned how to define and modify Python lists.  In this exercise, you will use your new knowledge to solve several problems.\n",
    "\n",
    "# Set up the notebook\n",
    "\n",
    "Run the next code cell without changes to set up the notebook."
   ]
  },
  {
   "cell_type": "code",
   "execution_count": 1,
   "id": "6c1436ba",
   "metadata": {
    "execution": {
     "iopub.execute_input": "2025-02-25T21:16:50.204843Z",
     "iopub.status.busy": "2025-02-25T21:16:50.204225Z",
     "iopub.status.idle": "2025-02-25T21:16:51.705576Z",
     "shell.execute_reply": "2025-02-25T21:16:51.704264Z"
    },
    "papermill": {
     "duration": 1.508502,
     "end_time": "2025-02-25T21:16:51.707215",
     "exception": false,
     "start_time": "2025-02-25T21:16:50.198713",
     "status": "completed"
    },
    "tags": []
   },
   "outputs": [
    {
     "name": "stdout",
     "output_type": "stream",
     "text": [
      "Setup complete.\n"
     ]
    }
   ],
   "source": [
    "from learntools.core import binder\n",
    "binder.bind(globals())\n",
    "from learntools.intro_to_programming.ex5 import *\n",
    "print('Setup complete.')"
   ]
  },
  {
   "cell_type": "markdown",
   "id": "b242f71a",
   "metadata": {
    "papermill": {
     "duration": 0.003445,
     "end_time": "2025-02-25T21:16:51.715214",
     "exception": false,
     "start_time": "2025-02-25T21:16:51.711769",
     "status": "completed"
    },
    "tags": []
   },
   "source": [
    "# Question 1\n",
    "\n",
    "You own a restaurant with five food dishes, organized in the Python list `menu` below.  One day, you decide to:\n",
    "- remove bean soup (`'bean soup'`) from the menu, and\n",
    "- add roasted beet salad (`'roasted beet salad'`) to the menu.\n",
    "\n",
    "Implement this change to the list below.  While completing this task, \n",
    "- do not change the line that creates the `menu` list.  \n",
    "- your answer should use `.remove()` and `.append()`.  "
   ]
  },
  {
   "cell_type": "code",
   "execution_count": 2,
   "id": "7f48e2d3",
   "metadata": {
    "execution": {
     "iopub.execute_input": "2025-02-25T21:16:51.724035Z",
     "iopub.status.busy": "2025-02-25T21:16:51.723490Z",
     "iopub.status.idle": "2025-02-25T21:16:51.734298Z",
     "shell.execute_reply": "2025-02-25T21:16:51.732936Z"
    },
    "papermill": {
     "duration": 0.018081,
     "end_time": "2025-02-25T21:16:51.736948",
     "exception": false,
     "start_time": "2025-02-25T21:16:51.718867",
     "status": "completed"
    },
    "tags": []
   },
   "outputs": [
    {
     "name": "stdout",
     "output_type": "stream",
     "text": [
      "['stewed meat with onions', 'risotto with trout and shrimp', 'fish soup with cream and onion', 'gyro', 'roasted beet salad']\n"
     ]
    },
    {
     "data": {
      "application/javascript": [
       "parent.postMessage({\"jupyterEvent\": \"custom.exercise_interaction\", \"data\": {\"outcomeType\": 1, \"valueTowardsCompletion\": 0.2, \"interactionType\": 1, \"questionType\": 2, \"questionId\": \"1_FoodMenu\", \"learnToolsVersion\": \"0.3.4\", \"failureMessage\": \"\", \"exceptionClass\": \"\", \"trace\": \"\"}}, \"*\")"
      ],
      "text/plain": [
       "<IPython.core.display.Javascript object>"
      ]
     },
     "metadata": {},
     "output_type": "display_data"
    },
    {
     "data": {
      "text/markdown": [
       "<span style=\"color:#33cc33\">Correct</span>"
      ],
      "text/plain": [
       "Correct"
      ]
     },
     "metadata": {},
     "output_type": "display_data"
    }
   ],
   "source": [
    "# Do not change: Initial menu for your restaurant\n",
    "menu = ['stewed meat with onions', 'bean soup', 'risotto with trout and shrimp',\n",
    "       'fish soup with cream and onion', 'gyro']\n",
    "\n",
    "# TODO: remove 'bean soup', and add 'roasted beet salad' to the end of the menu\n",
    "menu.remove('bean soup') #Removing bean soup\n",
    "menu.append('roasted beet salad')\n",
    "print(menu)\n",
    "\n",
    "# Do not change: Check your answer\n",
    "q1.check()"
   ]
  },
  {
   "cell_type": "code",
   "execution_count": 3,
   "id": "bf025f68",
   "metadata": {
    "execution": {
     "iopub.execute_input": "2025-02-25T21:16:51.747656Z",
     "iopub.status.busy": "2025-02-25T21:16:51.747323Z",
     "iopub.status.idle": "2025-02-25T21:16:51.752315Z",
     "shell.execute_reply": "2025-02-25T21:16:51.750885Z"
    },
    "papermill": {
     "duration": 0.012558,
     "end_time": "2025-02-25T21:16:51.754635",
     "exception": false,
     "start_time": "2025-02-25T21:16:51.742077",
     "status": "completed"
    },
    "tags": []
   },
   "outputs": [],
   "source": [
    "# Uncomment to see a hint\n",
    "#q1.hint()\n",
    "\n",
    "# Uncomment to see the solution\n",
    "#q1.solution()"
   ]
  },
  {
   "cell_type": "markdown",
   "id": "687d5298",
   "metadata": {
    "papermill": {
     "duration": 0.003988,
     "end_time": "2025-02-25T21:16:51.764962",
     "exception": false,
     "start_time": "2025-02-25T21:16:51.760974",
     "status": "completed"
    },
    "tags": []
   },
   "source": [
    "# Question 2\n",
    "\n",
    "The list `num_customers` contains the number of customers who came into your restaurant every day over the last month (which lasted thirty days).  Fill in values for each of the following:\n",
    "- `avg_first_seven` - average number of customers who visited in the first seven days\n",
    "- `avg_last_seven` - average number of customers who visited in the last seven days\n",
    "- `max_month` - number of customers on the day that got the most customers in the last month\n",
    "- `min_month` - number of customers on the day that got the least customers in the last month\n",
    "\n",
    "Answer this question by writing code.  For instance, if you have to find the minimum value in a list, use `min()` instead of scanning for the smallest value and directly filling in a number."
   ]
  },
  {
   "cell_type": "code",
   "execution_count": 4,
   "id": "bf0c2449",
   "metadata": {
    "execution": {
     "iopub.execute_input": "2025-02-25T21:16:51.775149Z",
     "iopub.status.busy": "2025-02-25T21:16:51.774668Z",
     "iopub.status.idle": "2025-02-25T21:16:51.785152Z",
     "shell.execute_reply": "2025-02-25T21:16:51.783707Z"
    },
    "papermill": {
     "duration": 0.017746,
     "end_time": "2025-02-25T21:16:51.786916",
     "exception": false,
     "start_time": "2025-02-25T21:16:51.769170",
     "status": "completed"
    },
    "tags": []
   },
   "outputs": [
    {
     "data": {
      "application/javascript": [
       "parent.postMessage({\"jupyterEvent\": \"custom.exercise_interaction\", \"data\": {\"outcomeType\": 1, \"valueTowardsCompletion\": 0.2, \"interactionType\": 1, \"questionType\": 1, \"questionId\": \"2_NumCustomers\", \"learnToolsVersion\": \"0.3.4\", \"failureMessage\": \"\", \"exceptionClass\": \"\", \"trace\": \"\"}}, \"*\")"
      ],
      "text/plain": [
       "<IPython.core.display.Javascript object>"
      ]
     },
     "metadata": {},
     "output_type": "display_data"
    },
    {
     "data": {
      "text/markdown": [
       "<span style=\"color:#33cc33\">Correct</span>"
      ],
      "text/plain": [
       "Correct"
      ]
     },
     "metadata": {},
     "output_type": "display_data"
    }
   ],
   "source": [
    "# Do not change: Number of customers each day for the last month\n",
    "num_customers = [137, 147, 135, 128, 170, 174, 165, 146, 126, 159,\n",
    "                 141, 148, 132, 147, 168, 153, 170, 161, 148, 152,\n",
    "                 141, 151, 131, 149, 164, 163, 143, 143, 166, 171]\n",
    "\n",
    "# TODO: Fill in values for the variables below\n",
    "avg_first_seven = sum(num_customers[:7]) / 7\n",
    "avg_last_seven = sum(num_customers[-7:]) / 7\n",
    "max_month = max(num_customers)\n",
    "min_month = min(num_customers)\n",
    "\n",
    "\n",
    "# Do not change: Check your answer\n",
    "q2.check()"
   ]
  },
  {
   "cell_type": "code",
   "execution_count": 5,
   "id": "c73ab47b",
   "metadata": {
    "execution": {
     "iopub.execute_input": "2025-02-25T21:16:51.800397Z",
     "iopub.status.busy": "2025-02-25T21:16:51.800048Z",
     "iopub.status.idle": "2025-02-25T21:16:51.803977Z",
     "shell.execute_reply": "2025-02-25T21:16:51.802864Z"
    },
    "papermill": {
     "duration": 0.011575,
     "end_time": "2025-02-25T21:16:51.805691",
     "exception": false,
     "start_time": "2025-02-25T21:16:51.794116",
     "status": "completed"
    },
    "tags": []
   },
   "outputs": [],
   "source": [
    "# Uncomment to see a hint\n",
    "#q2.hint()\n",
    "\n",
    "# Uncomment to see the solution\n",
    "#q2.solution()"
   ]
  },
  {
   "cell_type": "markdown",
   "id": "29496325",
   "metadata": {
    "papermill": {
     "duration": 0.005845,
     "end_time": "2025-02-25T21:16:51.818618",
     "exception": false,
     "start_time": "2025-02-25T21:16:51.812773",
     "status": "completed"
    },
    "tags": []
   },
   "source": [
    "# Question 3\n",
    "\n",
    "In the tutorial, we gave an example of a Python string with information that was better as a list."
   ]
  },
  {
   "cell_type": "code",
   "execution_count": 6,
   "id": "e479de8c",
   "metadata": {
    "execution": {
     "iopub.execute_input": "2025-02-25T21:16:51.831769Z",
     "iopub.status.busy": "2025-02-25T21:16:51.831343Z",
     "iopub.status.idle": "2025-02-25T21:16:51.837273Z",
     "shell.execute_reply": "2025-02-25T21:16:51.835517Z"
    },
    "papermill": {
     "duration": 0.015471,
     "end_time": "2025-02-25T21:16:51.840125",
     "exception": false,
     "start_time": "2025-02-25T21:16:51.824654",
     "status": "completed"
    },
    "tags": []
   },
   "outputs": [],
   "source": [
    "flowers = \"pink primrose,hard-leaved pocket orchid,canterbury bells,sweet pea,english marigold,tiger lily,moon orchid,bird of paradise,monkshood,globe thistle\""
   ]
  },
  {
   "cell_type": "markdown",
   "id": "ce002a7a",
   "metadata": {
    "papermill": {
     "duration": 0.004074,
     "end_time": "2025-02-25T21:16:51.849657",
     "exception": false,
     "start_time": "2025-02-25T21:16:51.845583",
     "status": "completed"
    },
    "tags": []
   },
   "source": [
    "You can actually use Python to quickly turn this string into a list with `.split()`.  In the parentheses, we need to provide the character should be used to mark the end of one list item and the beginning of another, and enclose it in quotation marks.  In this case, that character is a comma."
   ]
  },
  {
   "cell_type": "code",
   "execution_count": 7,
   "id": "9715ff03",
   "metadata": {
    "execution": {
     "iopub.execute_input": "2025-02-25T21:16:51.860362Z",
     "iopub.status.busy": "2025-02-25T21:16:51.859969Z",
     "iopub.status.idle": "2025-02-25T21:16:51.865803Z",
     "shell.execute_reply": "2025-02-25T21:16:51.864155Z"
    },
    "papermill": {
     "duration": 0.013088,
     "end_time": "2025-02-25T21:16:51.867344",
     "exception": false,
     "start_time": "2025-02-25T21:16:51.854256",
     "status": "completed"
    },
    "tags": []
   },
   "outputs": [
    {
     "name": "stdout",
     "output_type": "stream",
     "text": [
      "['pink primrose', 'hard-leaved pocket orchid', 'canterbury bells', 'sweet pea', 'english marigold', 'tiger lily', 'moon orchid', 'bird of paradise', 'monkshood', 'globe thistle']\n"
     ]
    }
   ],
   "source": [
    " print(flowers.split(\",\"))"
   ]
  },
  {
   "cell_type": "markdown",
   "id": "bd7d024e",
   "metadata": {
    "papermill": {
     "duration": 0.004114,
     "end_time": "2025-02-25T21:16:51.876614",
     "exception": false,
     "start_time": "2025-02-25T21:16:51.872500",
     "status": "completed"
    },
    "tags": []
   },
   "source": [
    "Now it is your turn to try this out!  Create two Python lists:\n",
    "- `letters` should be a Python list where each entry is an uppercase letter of the English alphabet.  For instance, the first two entries should be `\"A\"` and `\"B\"`, and the final two entries should be `\"Y\"` and `\"Z\"`.  Use the string `alphabet` to create this list.\n",
    "- `address` should be a Python list where each row in `address` is a different item in the list.  Currently, each row in `address` is separated by a comma. "
   ]
  },
  {
   "cell_type": "code",
   "execution_count": 8,
   "id": "4206e700",
   "metadata": {
    "execution": {
     "iopub.execute_input": "2025-02-25T21:16:51.887690Z",
     "iopub.status.busy": "2025-02-25T21:16:51.887240Z",
     "iopub.status.idle": "2025-02-25T21:16:51.897084Z",
     "shell.execute_reply": "2025-02-25T21:16:51.895699Z"
    },
    "papermill": {
     "duration": 0.017585,
     "end_time": "2025-02-25T21:16:51.898712",
     "exception": false,
     "start_time": "2025-02-25T21:16:51.881127",
     "status": "completed"
    },
    "tags": []
   },
   "outputs": [
    {
     "data": {
      "application/javascript": [
       "parent.postMessage({\"jupyterEvent\": \"custom.exercise_interaction\", \"data\": {\"outcomeType\": 1, \"valueTowardsCompletion\": 0.2, \"interactionType\": 1, \"questionType\": 1, \"questionId\": \"3_SplitString\", \"learnToolsVersion\": \"0.3.4\", \"failureMessage\": \"\", \"exceptionClass\": \"\", \"trace\": \"\"}}, \"*\")"
      ],
      "text/plain": [
       "<IPython.core.display.Javascript object>"
      ]
     },
     "metadata": {},
     "output_type": "display_data"
    },
    {
     "data": {
      "text/markdown": [
       "<span style=\"color:#33cc33\">Correct</span>"
      ],
      "text/plain": [
       "Correct"
      ]
     },
     "metadata": {},
     "output_type": "display_data"
    }
   ],
   "source": [
    "# DO not change: Define two Python strings\n",
    "alphabet = \"A.B.C.D.E.F.G.H.I.J.K.L.M.N.O.P.Q.R.S.T.U.V.W.X.Y.Z\"\n",
    "address = \"Mr. H. Potter,The cupboard under the Stairs,4 Privet Drive,Little Whinging,Surrey\"\n",
    "\n",
    "# TODO: Convert strings into Python lists\n",
    "letters = alphabet.split('.')\n",
    "formatted_address = address.split(',')\n",
    "\n",
    "# Do not change: Check your answer\n",
    "q3.check()"
   ]
  },
  {
   "cell_type": "code",
   "execution_count": 9,
   "id": "55e9196b",
   "metadata": {
    "execution": {
     "iopub.execute_input": "2025-02-25T21:16:51.910011Z",
     "iopub.status.busy": "2025-02-25T21:16:51.909616Z",
     "iopub.status.idle": "2025-02-25T21:16:51.915518Z",
     "shell.execute_reply": "2025-02-25T21:16:51.913327Z"
    },
    "papermill": {
     "duration": 0.013948,
     "end_time": "2025-02-25T21:16:51.917941",
     "exception": false,
     "start_time": "2025-02-25T21:16:51.903993",
     "status": "completed"
    },
    "tags": []
   },
   "outputs": [],
   "source": [
    "# Uncomment to see a hint\n",
    "#q3.hint()\n",
    "\n",
    "# Uncomment to see the solution\n",
    "#q3.solution()"
   ]
  },
  {
   "cell_type": "markdown",
   "id": "085d6e1c",
   "metadata": {
    "papermill": {
     "duration": 0.00437,
     "end_time": "2025-02-25T21:16:51.927404",
     "exception": false,
     "start_time": "2025-02-25T21:16:51.923034",
     "status": "completed"
    },
    "tags": []
   },
   "source": [
    "# Question 4\n",
    "\n",
    "In the Python course, you'll learn all about **list comprehensions**, which allow you to create a list based on the values in another list.  In this question, you'll get a brief preview of how they work.\n",
    "\n",
    "Say we're working with the list below."
   ]
  },
  {
   "cell_type": "code",
   "execution_count": 10,
   "id": "deb09de7",
   "metadata": {
    "execution": {
     "iopub.execute_input": "2025-02-25T21:16:51.937418Z",
     "iopub.status.busy": "2025-02-25T21:16:51.936985Z",
     "iopub.status.idle": "2025-02-25T21:16:51.941825Z",
     "shell.execute_reply": "2025-02-25T21:16:51.940862Z"
    },
    "papermill": {
     "duration": 0.012189,
     "end_time": "2025-02-25T21:16:51.943810",
     "exception": false,
     "start_time": "2025-02-25T21:16:51.931621",
     "status": "completed"
    },
    "tags": []
   },
   "outputs": [],
   "source": [
    "test_ratings = [1, 2, 3, 4, 5]"
   ]
  },
  {
   "cell_type": "markdown",
   "id": "d062af4d",
   "metadata": {
    "papermill": {
     "duration": 0.004319,
     "end_time": "2025-02-25T21:16:51.953630",
     "exception": false,
     "start_time": "2025-02-25T21:16:51.949311",
     "status": "completed"
    },
    "tags": []
   },
   "source": [
    "Then we can use this list (`test_ratings`) to create a new list (`test_liked`) where each item has been turned into a boolean, depending on whether or not the item is greater than or equal to four."
   ]
  },
  {
   "cell_type": "code",
   "execution_count": 11,
   "id": "1f650396",
   "metadata": {
    "execution": {
     "iopub.execute_input": "2025-02-25T21:16:51.963399Z",
     "iopub.status.busy": "2025-02-25T21:16:51.963079Z",
     "iopub.status.idle": "2025-02-25T21:16:51.969687Z",
     "shell.execute_reply": "2025-02-25T21:16:51.967575Z"
    },
    "papermill": {
     "duration": 0.014333,
     "end_time": "2025-02-25T21:16:51.972177",
     "exception": false,
     "start_time": "2025-02-25T21:16:51.957844",
     "status": "completed"
    },
    "tags": []
   },
   "outputs": [
    {
     "name": "stdout",
     "output_type": "stream",
     "text": [
      "[False, False, False, True, True]\n"
     ]
    }
   ],
   "source": [
    "test_liked = [i>=4 for i in test_ratings]\n",
    "print(test_liked)"
   ]
  },
  {
   "cell_type": "markdown",
   "id": "bf2020e3",
   "metadata": {
    "papermill": {
     "duration": 0.00483,
     "end_time": "2025-02-25T21:16:51.982782",
     "exception": false,
     "start_time": "2025-02-25T21:16:51.977952",
     "status": "completed"
    },
    "tags": []
   },
   "source": [
    "In this question, you'll use this list comprehension to define a function `percentage_liked()` that takes one argument as input:\n",
    "- `ratings`: list of ratings that people gave to a movie, where each rating is a number between 1-5, inclusive\n",
    "\n",
    "We say someone liked the movie, if they gave a rating of either 4 or 5.  Your function should return the percentage of people who liked the movie.\n",
    "\n",
    "For instance, if we supply a value of `[1, 2, 3, 4, 5, 4, 5, 1]`, then 50% (4/8) of the people liked the movie, and the function should return `0.5`.\n",
    "\n",
    "Part of the function has already been completed for you.  You need only use `list_liked` to calculate `percentage_liked`."
   ]
  },
  {
   "cell_type": "code",
   "execution_count": 12,
   "id": "58a81ec3",
   "metadata": {
    "execution": {
     "iopub.execute_input": "2025-02-25T21:16:51.994581Z",
     "iopub.status.busy": "2025-02-25T21:16:51.994032Z",
     "iopub.status.idle": "2025-02-25T21:16:52.006643Z",
     "shell.execute_reply": "2025-02-25T21:16:52.004932Z"
    },
    "papermill": {
     "duration": 0.021014,
     "end_time": "2025-02-25T21:16:52.008706",
     "exception": false,
     "start_time": "2025-02-25T21:16:51.987692",
     "status": "completed"
    },
    "tags": []
   },
   "outputs": [
    {
     "data": {
      "application/javascript": [
       "parent.postMessage({\"jupyterEvent\": \"custom.exercise_interaction\", \"data\": {\"outcomeType\": 1, \"valueTowardsCompletion\": 0.2, \"interactionType\": 1, \"questionType\": 2, \"questionId\": \"4_PercentageLiked\", \"learnToolsVersion\": \"0.3.4\", \"failureMessage\": \"\", \"exceptionClass\": \"\", \"trace\": \"\"}}, \"*\")"
      ],
      "text/plain": [
       "<IPython.core.display.Javascript object>"
      ]
     },
     "metadata": {},
     "output_type": "display_data"
    },
    {
     "data": {
      "text/markdown": [
       "<span style=\"color:#33cc33\">Correct</span>"
      ],
      "text/plain": [
       "Correct"
      ]
     },
     "metadata": {},
     "output_type": "display_data"
    }
   ],
   "source": [
    "\n",
    "def percentage_liked(ratings):\n",
    "    list_liked = [i>=4 for i in ratings]\n",
    "    # TODO: Complete the function\n",
    "    percentage_liked = sum(list_liked) / len(list_liked)\n",
    "    return percentage_liked\n",
    "\n",
    "# Do not change: should return 0.5\n",
    "percentage_liked([1, 2, 3, 4, 5, 4, 5, 1])\n",
    "\n",
    "# Do not change: Check your answer\n",
    "q4.check()"
   ]
  },
  {
   "cell_type": "code",
   "execution_count": 13,
   "id": "ebbeb16e",
   "metadata": {
    "execution": {
     "iopub.execute_input": "2025-02-25T21:16:52.024200Z",
     "iopub.status.busy": "2025-02-25T21:16:52.023702Z",
     "iopub.status.idle": "2025-02-25T21:16:52.028574Z",
     "shell.execute_reply": "2025-02-25T21:16:52.027097Z"
    },
    "papermill": {
     "duration": 0.012929,
     "end_time": "2025-02-25T21:16:52.030596",
     "exception": false,
     "start_time": "2025-02-25T21:16:52.017667",
     "status": "completed"
    },
    "tags": []
   },
   "outputs": [],
   "source": [
    "# Uncomment to see a hint\n",
    "#q4.hint()\n",
    "\n",
    "# Uncomment to see the solution\n",
    "#q4.solution()"
   ]
  },
  {
   "cell_type": "markdown",
   "id": "aa55f95b",
   "metadata": {
    "papermill": {
     "duration": 0.004576,
     "end_time": "2025-02-25T21:16:52.041109",
     "exception": false,
     "start_time": "2025-02-25T21:16:52.036533",
     "status": "completed"
    },
    "tags": []
   },
   "source": [
    "# 🌶️ Question 5\n",
    " \n",
    "Say you're doing analytics for a website.  You need to write a function that returns the percentage growth in the total number of users relative to a specified number of years ago.\n",
    "\n",
    "Your function `percentage_growth()` should take two arguments as input:\n",
    "- `num_users` = Python list with the total number of users each year.  So `num_users[0]` is the total number of users in the first year, `num_users[1]` is the total number of users in the second year, and so on.  The final entry in the list gives the total number of users in the most recently completed year.\n",
    "- `yrs_ago` = number of years to go back in time when calculating the growth percentage\n",
    "\n",
    "For instance, say `num_users = [920344, 1043553, 1204334, 1458996, 1503323, 1593432, 1623463, 1843064, 1930992, 2001078]`.\n",
    "- if `yrs_ago = 1`, we want the function to return a value of about `0.036`. This corresponds to a percentage growth of approximately 3.6%, calculated as (2001078 - 1930992)/1930992.\n",
    "- if `years_ago = 7`, we would want to return approximately `0.66`.  This corresponds to a percentage growth of approximately 66%, calculated as (2001078 - 1204334)/1204334.\n",
    "\n",
    "Your coworker sent you a draft of a function, but it doesn't seem to be doing the correct calculation.  Can you figure out what has gone wrong and make the needed changes?"
   ]
  },
  {
   "cell_type": "code",
   "execution_count": 14,
   "id": "c2724f60",
   "metadata": {
    "execution": {
     "iopub.execute_input": "2025-02-25T21:16:52.052580Z",
     "iopub.status.busy": "2025-02-25T21:16:52.052246Z",
     "iopub.status.idle": "2025-02-25T21:16:52.061006Z",
     "shell.execute_reply": "2025-02-25T21:16:52.059176Z"
    },
    "papermill": {
     "duration": 0.01657,
     "end_time": "2025-02-25T21:16:52.062691",
     "exception": false,
     "start_time": "2025-02-25T21:16:52.046121",
     "status": "completed"
    },
    "tags": []
   },
   "outputs": [
    {
     "name": "stdout",
     "output_type": "stream",
     "text": [
      "0.03629533421163837\n",
      "0.6615639847417742\n"
     ]
    },
    {
     "data": {
      "application/javascript": [
       "parent.postMessage({\"jupyterEvent\": \"custom.exercise_interaction\", \"data\": {\"outcomeType\": 1, \"valueTowardsCompletion\": 0.2, \"interactionType\": 1, \"questionType\": 2, \"questionId\": \"5_WebsiteAnalytics\", \"learnToolsVersion\": \"0.3.4\", \"failureMessage\": \"\", \"exceptionClass\": \"\", \"trace\": \"\"}}, \"*\")"
      ],
      "text/plain": [
       "<IPython.core.display.Javascript object>"
      ]
     },
     "metadata": {},
     "output_type": "display_data"
    },
    {
     "data": {
      "text/markdown": [
       "<span style=\"color:#33cc33\">Correct</span>"
      ],
      "text/plain": [
       "Correct"
      ]
     },
     "metadata": {},
     "output_type": "display_data"
    }
   ],
   "source": [
    "# TODO: Edit the function\n",
    "def percentage_growth(num_users, yrs_ago):\n",
    "    growth = (num_users[len(num_users)-1] - num_users[len(num_users)-yrs_ago-1])/num_users[len(num_users)-yrs_ago-1]\n",
    "    return growth\n",
    "\n",
    "# Do not change: Variable for calculating some test examples\n",
    "num_users_test = [920344, 1043553, 1204334, 1458996, 1503323, 1593432, 1623463, 1843064, 1930992, 2001078]\n",
    "\n",
    "# Do not change: Should return .036\n",
    "print(percentage_growth(num_users_test, 1))\n",
    "\n",
    "# Do not change: Should return 0.66\n",
    "print(percentage_growth(num_users_test, 7))\n",
    "\n",
    "# Do not change: Check your answer\n",
    "q5.check()"
   ]
  },
  {
   "cell_type": "code",
   "execution_count": 15,
   "id": "b38e67c6",
   "metadata": {
    "execution": {
     "iopub.execute_input": "2025-02-25T21:16:52.075565Z",
     "iopub.status.busy": "2025-02-25T21:16:52.075166Z",
     "iopub.status.idle": "2025-02-25T21:16:52.080329Z",
     "shell.execute_reply": "2025-02-25T21:16:52.078422Z"
    },
    "papermill": {
     "duration": 0.014491,
     "end_time": "2025-02-25T21:16:52.082872",
     "exception": false,
     "start_time": "2025-02-25T21:16:52.068381",
     "status": "completed"
    },
    "tags": []
   },
   "outputs": [],
   "source": [
    "# Uncomment to see a hint\n",
    "#q5.hint()\n",
    "\n",
    "# Uncomment to see the solution\n",
    "#q5.solution()"
   ]
  },
  {
   "cell_type": "markdown",
   "id": "f0ae6026",
   "metadata": {
    "papermill": {
     "duration": 0.004153,
     "end_time": "2025-02-25T21:16:52.092360",
     "exception": false,
     "start_time": "2025-02-25T21:16:52.088207",
     "status": "completed"
    },
    "tags": []
   },
   "source": [
    "# Congratulations!\n",
    "\n",
    "Congratulations for finishing the Intro to Programming course!  You should be proud of your very first steps with learning programming.  As next steps, we recommend taking:\n",
    "- the **[Python course](http://www.kaggle.com/learn/python)**, and \n",
    "- the **[Intro to Machine Learning course](https://www.kaggle.com/learn/intro-to-machine-learning)**."
   ]
  },
  {
   "cell_type": "markdown",
   "id": "f22b3aad",
   "metadata": {
    "papermill": {
     "duration": 0.004145,
     "end_time": "2025-02-25T21:16:52.100904",
     "exception": false,
     "start_time": "2025-02-25T21:16:52.096759",
     "status": "completed"
    },
    "tags": []
   },
   "source": [
    "---\n",
    "\n",
    "\n",
    "\n",
    "\n",
    "*Have questions or comments? Visit the [course discussion forum](https://www.kaggle.com/learn/intro-to-programming/discussion) to chat with other learners.*"
   ]
  }
 ],
 "metadata": {
  "kaggle": {
   "accelerator": "none",
   "dataSources": [],
   "isGpuEnabled": false,
   "isInternetEnabled": false,
   "language": "python",
   "sourceType": "notebook"
  },
  "kernelspec": {
   "display_name": "Python 3",
   "language": "python",
   "name": "python3"
  },
  "language_info": {
   "codemirror_mode": {
    "name": "ipython",
    "version": 3
   },
   "file_extension": ".py",
   "mimetype": "text/x-python",
   "name": "python",
   "nbconvert_exporter": "python",
   "pygments_lexer": "ipython3",
   "version": "3.10.12"
  },
  "papermill": {
   "default_parameters": {},
   "duration": 6.31919,
   "end_time": "2025-02-25T21:16:52.730166",
   "environment_variables": {},
   "exception": null,
   "input_path": "__notebook__.ipynb",
   "output_path": "__notebook__.ipynb",
   "parameters": {},
   "start_time": "2025-02-25T21:16:46.410976",
   "version": "2.6.0"
  }
 },
 "nbformat": 4,
 "nbformat_minor": 5
}
