{
 "cells": [
  {
   "cell_type": "markdown",
   "id": "e10ef311",
   "metadata": {
    "papermill": {
     "duration": 0.004653,
     "end_time": "2025-02-24T15:32:39.830840",
     "exception": false,
     "start_time": "2025-02-24T15:32:39.826187",
     "status": "completed"
    },
    "tags": []
   },
   "source": [
    "**This notebook is an exercise in the [Intro to Programming](https://www.kaggle.com/learn/intro-to-programming) course.  You can reference the tutorial at [this link](https://www.kaggle.com/alexisbcook/functions).**\n",
    "\n",
    "---\n"
   ]
  },
  {
   "cell_type": "markdown",
   "id": "7eb8949a",
   "metadata": {
    "papermill": {
     "duration": 0.003195,
     "end_time": "2025-02-24T15:32:39.837759",
     "exception": false,
     "start_time": "2025-02-24T15:32:39.834564",
     "status": "completed"
    },
    "tags": []
   },
   "source": [
    "In the tutorial, you learned about functions. In this exercise, you'll write some of your own!\n",
    "\n",
    "# Set up the notebook\n",
    "\n",
    "Run the next code cell without changes to set up the notebook."
   ]
  },
  {
   "cell_type": "code",
   "execution_count": 1,
   "id": "22fa5eb8",
   "metadata": {
    "execution": {
     "iopub.execute_input": "2025-02-24T15:32:39.845853Z",
     "iopub.status.busy": "2025-02-24T15:32:39.845500Z",
     "iopub.status.idle": "2025-02-24T15:32:40.951912Z",
     "shell.execute_reply": "2025-02-24T15:32:40.950844Z"
    },
    "papermill": {
     "duration": 1.112066,
     "end_time": "2025-02-24T15:32:40.953220",
     "exception": false,
     "start_time": "2025-02-24T15:32:39.841154",
     "status": "completed"
    },
    "tags": []
   },
   "outputs": [
    {
     "name": "stdout",
     "output_type": "stream",
     "text": [
      "Setup complete.\n"
     ]
    }
   ],
   "source": [
    "# Set up the exercise\n",
    "import math\n",
    "from learntools.core import binder\n",
    "binder.bind(globals())\n",
    "from learntools.intro_to_programming.ex2 import *\n",
    "print('Setup complete.')"
   ]
  },
  {
   "cell_type": "markdown",
   "id": "9a4a533c",
   "metadata": {
    "papermill": {
     "duration": 0.004254,
     "end_time": "2025-02-24T15:32:40.961288",
     "exception": false,
     "start_time": "2025-02-24T15:32:40.957034",
     "status": "completed"
    },
    "tags": []
   },
   "source": [
    "# Question 1\n",
    "\n",
    "In the [House Prices - Advanced Regression Techniques competition](https://www.kaggle.com/c/house-prices-advanced-regression-techniques/overview), you need to use information like the number of bedrooms and bathrooms to predict the price of a house.  Inspired by this competition, you'll write your own function to do this.\n",
    "\n",
    "In the next code cell, create a function `get_expected_cost()` that has two arguments:\n",
    "- `beds` - number of bedrooms \n",
    "- `baths` - number of bathrooms\n",
    "\n",
    "It should return the expected cost of a house with that number of bedrooms and bathrooms.  Assume that:\n",
    "- the expected cost for a house with 0 bedrooms and 0 bathrooms is `80000`.  \n",
    "- each bedroom adds `30000` to the expected cost\n",
    "- each bathroom adds `10000` to the expected cost.\n",
    "\n",
    "For instance, \n",
    "- a house with 1 bedroom and 1 bathroom has an expected cost of `120000`, and \n",
    "- a house with 2 bedrooms and 1 bathroom has an expected cost of `150000`."
   ]
  },
  {
   "cell_type": "code",
   "execution_count": 2,
   "id": "f679baaf",
   "metadata": {
    "execution": {
     "iopub.execute_input": "2025-02-24T15:32:40.969891Z",
     "iopub.status.busy": "2025-02-24T15:32:40.969489Z",
     "iopub.status.idle": "2025-02-24T15:32:40.977359Z",
     "shell.execute_reply": "2025-02-24T15:32:40.976126Z"
    },
    "papermill": {
     "duration": 0.014211,
     "end_time": "2025-02-24T15:32:40.979327",
     "exception": false,
     "start_time": "2025-02-24T15:32:40.965116",
     "status": "completed"
    },
    "tags": []
   },
   "outputs": [
    {
     "data": {
      "application/javascript": [
       "parent.postMessage({\"jupyterEvent\": \"custom.exercise_interaction\", \"data\": {\"outcomeType\": 1, \"valueTowardsCompletion\": 0.2, \"interactionType\": 1, \"questionType\": 2, \"questionId\": \"1_GetExpectedCost\", \"learnToolsVersion\": \"0.3.4\", \"failureMessage\": \"\", \"exceptionClass\": \"\", \"trace\": \"\"}}, \"*\")"
      ],
      "text/plain": [
       "<IPython.core.display.Javascript object>"
      ]
     },
     "metadata": {},
     "output_type": "display_data"
    },
    {
     "data": {
      "text/markdown": [
       "<span style=\"color:#33cc33\">Correct</span>"
      ],
      "text/plain": [
       "Correct"
      ]
     },
     "metadata": {},
     "output_type": "display_data"
    }
   ],
   "source": [
    "# TODO: Complete the function\n",
    "def get_expected_cost(beds, baths):\n",
    "    value = 80000 + 30000*beds + 10000*baths\n",
    "    return value\n",
    "\n",
    "# Check your answer \n",
    "q1.check()"
   ]
  },
  {
   "cell_type": "code",
   "execution_count": 3,
   "id": "d6c7de44",
   "metadata": {
    "execution": {
     "iopub.execute_input": "2025-02-24T15:32:40.989377Z",
     "iopub.status.busy": "2025-02-24T15:32:40.989013Z",
     "iopub.status.idle": "2025-02-24T15:32:40.992503Z",
     "shell.execute_reply": "2025-02-24T15:32:40.991724Z"
    },
    "papermill": {
     "duration": 0.010103,
     "end_time": "2025-02-24T15:32:40.994074",
     "exception": false,
     "start_time": "2025-02-24T15:32:40.983971",
     "status": "completed"
    },
    "tags": []
   },
   "outputs": [],
   "source": [
    "# Uncomment to see a hint\n",
    "#q1.hint()\n",
    "\n",
    "# Uncomment to view the solution\n",
    "#q1.solution()"
   ]
  },
  {
   "cell_type": "markdown",
   "id": "bccfd0e1",
   "metadata": {
    "papermill": {
     "duration": 0.003493,
     "end_time": "2025-02-24T15:32:41.001814",
     "exception": false,
     "start_time": "2025-02-24T15:32:40.998321",
     "status": "completed"
    },
    "tags": []
   },
   "source": [
    "# Question 2\n",
    "\n",
    "You are thinking about buying a home and want to get an idea of how much you will spend, based on the number of bedrooms and bathrooms.  You are trying to decide between four different options:\n",
    "- Option 1: house with two bedrooms and three bathrooms\n",
    "- Option 2: house with three bedrooms and two bathrooms\n",
    "- Option 3: house with three bedrooms and three bathrooms\n",
    "- Option 4: house with three bedrooms and four bathrooms\n",
    "\n",
    "Use the `get_expected_cost()` function you defined in question 1 to set `option_1`, `option_2`, `option_3`, and `option_4` to the expected cost of each option."
   ]
  },
  {
   "cell_type": "code",
   "execution_count": 4,
   "id": "e9a33439",
   "metadata": {
    "execution": {
     "iopub.execute_input": "2025-02-24T15:32:41.010451Z",
     "iopub.status.busy": "2025-02-24T15:32:41.010128Z",
     "iopub.status.idle": "2025-02-24T15:32:41.018865Z",
     "shell.execute_reply": "2025-02-24T15:32:41.017678Z"
    },
    "papermill": {
     "duration": 0.014532,
     "end_time": "2025-02-24T15:32:41.020042",
     "exception": false,
     "start_time": "2025-02-24T15:32:41.005510",
     "status": "completed"
    },
    "tags": []
   },
   "outputs": [
    {
     "name": "stdout",
     "output_type": "stream",
     "text": [
      "170000\n",
      "190000\n",
      "200000\n",
      "210000\n"
     ]
    },
    {
     "data": {
      "application/javascript": [
       "parent.postMessage({\"jupyterEvent\": \"custom.exercise_interaction\", \"data\": {\"outcomeType\": 1, \"valueTowardsCompletion\": 0.2, \"interactionType\": 1, \"questionType\": 1, \"questionId\": \"2_RunGetExpectedCost\", \"learnToolsVersion\": \"0.3.4\", \"failureMessage\": \"\", \"exceptionClass\": \"\", \"trace\": \"\"}}, \"*\")"
      ],
      "text/plain": [
       "<IPython.core.display.Javascript object>"
      ]
     },
     "metadata": {},
     "output_type": "display_data"
    },
    {
     "data": {
      "text/markdown": [
       "<span style=\"color:#33cc33\">Correct</span>"
      ],
      "text/plain": [
       "Correct"
      ]
     },
     "metadata": {},
     "output_type": "display_data"
    }
   ],
   "source": [
    "# TODO: Use the get_expected_cost function to fill in each value\n",
    "option_one = get_expected_cost(2,3)\n",
    "option_two = get_expected_cost(3,2)\n",
    "option_three = get_expected_cost(3,3)\n",
    "option_four = get_expected_cost(3,4)\n",
    "\n",
    "print(option_one)\n",
    "print(option_two)\n",
    "print(option_three)\n",
    "print(option_four)\n",
    "\n",
    "# Check your answer\n",
    "q2.check()"
   ]
  },
  {
   "cell_type": "code",
   "execution_count": 5,
   "id": "de3d7d09",
   "metadata": {
    "execution": {
     "iopub.execute_input": "2025-02-24T15:32:41.029151Z",
     "iopub.status.busy": "2025-02-24T15:32:41.028838Z",
     "iopub.status.idle": "2025-02-24T15:32:41.032121Z",
     "shell.execute_reply": "2025-02-24T15:32:41.031364Z"
    },
    "papermill": {
     "duration": 0.009155,
     "end_time": "2025-02-24T15:32:41.033192",
     "exception": false,
     "start_time": "2025-02-24T15:32:41.024037",
     "status": "completed"
    },
    "tags": []
   },
   "outputs": [],
   "source": [
    "# Uncomment to see a hint\n",
    "#q2.hint()\n",
    "\n",
    "# Uncomment to view the solution\n",
    "#q2.solution()"
   ]
  },
  {
   "cell_type": "markdown",
   "id": "7e1917ac",
   "metadata": {
    "papermill": {
     "duration": 0.003999,
     "end_time": "2025-02-24T15:32:41.041210",
     "exception": false,
     "start_time": "2025-02-24T15:32:41.037211",
     "status": "completed"
    },
    "tags": []
   },
   "source": [
    "# Question 3\n",
    "\n",
    "You're a home decorator, and you'd like to use Python to streamline some of your work.  Specifically, you're creating a tool that you intend to use to calculate the cost of painting a room.\n",
    "\n",
    "As a first step, define a function `get_cost()` that takes as input:\n",
    "- `sqft_walls` = total square feet of walls to be painted\n",
    "- `sqft_ceiling` = square feet of ceiling to be painted\n",
    "- `sqft_per_gallon` = number of square feet that you can cover with one gallon of paint\n",
    "- `cost_per_gallon` = cost (in dollars) of one gallon of paint\n",
    "\n",
    "It should return the cost (in dollars) of putting one coat of paint on all walls and the ceiling.  Assume you can buy the exact amount of paint that you need, so you can buy partial gallons (e.g., if you need 7.523 gallons, you can buy that exact amount, instead of needing to buy 8 gallons and waste some paint).  Do not round your answer."
   ]
  },
  {
   "cell_type": "code",
   "execution_count": 6,
   "id": "3f8452f4",
   "metadata": {
    "execution": {
     "iopub.execute_input": "2025-02-24T15:32:41.049779Z",
     "iopub.status.busy": "2025-02-24T15:32:41.049437Z",
     "iopub.status.idle": "2025-02-24T15:32:41.056201Z",
     "shell.execute_reply": "2025-02-24T15:32:41.054938Z"
    },
    "papermill": {
     "duration": 0.012699,
     "end_time": "2025-02-24T15:32:41.057485",
     "exception": false,
     "start_time": "2025-02-24T15:32:41.044786",
     "status": "completed"
    },
    "tags": []
   },
   "outputs": [
    {
     "data": {
      "application/javascript": [
       "parent.postMessage({\"jupyterEvent\": \"custom.exercise_interaction\", \"data\": {\"outcomeType\": 1, \"valueTowardsCompletion\": 0.2, \"interactionType\": 1, \"questionType\": 2, \"questionId\": \"3_GetCostPaint\", \"learnToolsVersion\": \"0.3.4\", \"failureMessage\": \"\", \"exceptionClass\": \"\", \"trace\": \"\"}}, \"*\")"
      ],
      "text/plain": [
       "<IPython.core.display.Javascript object>"
      ]
     },
     "metadata": {},
     "output_type": "display_data"
    },
    {
     "data": {
      "text/markdown": [
       "<span style=\"color:#33cc33\">Correct</span>"
      ],
      "text/plain": [
       "Correct"
      ]
     },
     "metadata": {},
     "output_type": "display_data"
    }
   ],
   "source": [
    "# TODO: Finish defining the function\n",
    "def get_cost(sqft_walls, sqft_ceiling, sqft_per_gallon, cost_per_gallon):\n",
    "  \n",
    "    # Total squarefeet to be painted \n",
    "    total_squarefeet = sqft_walls + sqft_ceiling\n",
    "    \n",
    "    # Gallons to be bought\n",
    "    gallons_needed = total_squarefeet /  sqft_per_gallon\n",
    "    \n",
    "    # Cost of paint\n",
    "    cost = gallons_needed * cost_per_gallon\n",
    "    return cost\n",
    "\n",
    "# Check your answer\n",
    "q3.check()"
   ]
  },
  {
   "cell_type": "code",
   "execution_count": 7,
   "id": "445617d9",
   "metadata": {
    "execution": {
     "iopub.execute_input": "2025-02-24T15:32:41.066563Z",
     "iopub.status.busy": "2025-02-24T15:32:41.066171Z",
     "iopub.status.idle": "2025-02-24T15:32:41.070112Z",
     "shell.execute_reply": "2025-02-24T15:32:41.069016Z"
    },
    "papermill": {
     "duration": 0.009652,
     "end_time": "2025-02-24T15:32:41.071259",
     "exception": false,
     "start_time": "2025-02-24T15:32:41.061607",
     "status": "completed"
    },
    "tags": []
   },
   "outputs": [],
   "source": [
    "# Uncomment to see a hint\n",
    "#q3.hint()\n",
    "\n",
    "# Uncomment to view the solution\n",
    "#q3.solution()"
   ]
  },
  {
   "cell_type": "markdown",
   "id": "35add209",
   "metadata": {
    "papermill": {
     "duration": 0.003629,
     "end_time": "2025-02-24T15:32:41.079043",
     "exception": false,
     "start_time": "2025-02-24T15:32:41.075414",
     "status": "completed"
    },
    "tags": []
   },
   "source": [
    "# Question 4\n",
    "\n",
    "Use the `get_cost()` function you defined in Question 3 to calculate the cost of applying one coat of paint to a room with:\n",
    "- 432 square feet of walls, and\n",
    "- 144 square feet of ceiling.\n",
    "\n",
    "Assume that one gallon of paint covers 400 square feet and costs $15.  As in Question 3, assume you can buy partial gallons of paint.  Do not round your answer."
   ]
  },
  {
   "cell_type": "code",
   "execution_count": 8,
   "id": "dbbb49c6",
   "metadata": {
    "execution": {
     "iopub.execute_input": "2025-02-24T15:32:41.088376Z",
     "iopub.status.busy": "2025-02-24T15:32:41.088047Z",
     "iopub.status.idle": "2025-02-24T15:32:41.094162Z",
     "shell.execute_reply": "2025-02-24T15:32:41.093467Z"
    },
    "papermill": {
     "duration": 0.012312,
     "end_time": "2025-02-24T15:32:41.095261",
     "exception": false,
     "start_time": "2025-02-24T15:32:41.082949",
     "status": "completed"
    },
    "tags": []
   },
   "outputs": [
    {
     "data": {
      "application/javascript": [
       "parent.postMessage({\"jupyterEvent\": \"custom.exercise_interaction\", \"data\": {\"outcomeType\": 1, \"valueTowardsCompletion\": 0.2, \"interactionType\": 1, \"questionType\": 1, \"questionId\": \"4_GetCostPaintExample\", \"learnToolsVersion\": \"0.3.4\", \"failureMessage\": \"\", \"exceptionClass\": \"\", \"trace\": \"\"}}, \"*\")"
      ],
      "text/plain": [
       "<IPython.core.display.Javascript object>"
      ]
     },
     "metadata": {},
     "output_type": "display_data"
    },
    {
     "data": {
      "text/markdown": [
       "<span style=\"color:#33cc33\">Correct</span>"
      ],
      "text/plain": [
       "Correct"
      ]
     },
     "metadata": {},
     "output_type": "display_data"
    }
   ],
   "source": [
    "# TODO: Set the project_cost variable to the cost of the project\n",
    "project_cost = get_cost(432, 144, 400, 15)\n",
    "\n",
    "# Check your answer\n",
    "q4.check()"
   ]
  },
  {
   "cell_type": "code",
   "execution_count": 9,
   "id": "31e3bbdb",
   "metadata": {
    "execution": {
     "iopub.execute_input": "2025-02-24T15:32:41.104651Z",
     "iopub.status.busy": "2025-02-24T15:32:41.104314Z",
     "iopub.status.idle": "2025-02-24T15:32:41.107899Z",
     "shell.execute_reply": "2025-02-24T15:32:41.106962Z"
    },
    "papermill": {
     "duration": 0.009545,
     "end_time": "2025-02-24T15:32:41.109072",
     "exception": false,
     "start_time": "2025-02-24T15:32:41.099527",
     "status": "completed"
    },
    "tags": []
   },
   "outputs": [],
   "source": [
    "# Uncomment to see a hint\n",
    "#q4.hint()\n",
    "\n",
    "# Uncomment to view the solution\n",
    "#q4.solution()"
   ]
  },
  {
   "cell_type": "markdown",
   "id": "1308f317",
   "metadata": {
    "papermill": {
     "duration": 0.00377,
     "end_time": "2025-02-24T15:32:41.117144",
     "exception": false,
     "start_time": "2025-02-24T15:32:41.113374",
     "status": "completed"
    },
    "tags": []
   },
   "source": [
    "# 🌶️ Question 5\n",
    "\n",
    "Now say you can no longer buy fractions of a gallon.  (For instance, if you need 4.3 gallons to do a project, then you have to buy 5 gallons of paint.)\n",
    "\n",
    "With this new scenario, you will create a new function `get_actual_cost` that uses the same inputs and calculates the cost of your project.\n",
    "\n",
    "One function that you'll need to use to do this is `math.ceil()`.  We demonstrate usage of this function in the code cell below.  It takes as a number as input and rounds the number up to the nearest integer.  \n",
    "\n",
    "Run the next code cell to test this function for yourself.  Feel free to change the value of `test_value` and make sure `math.ceil()` returns the number you expect."
   ]
  },
  {
   "cell_type": "code",
   "execution_count": 10,
   "id": "ff5c0a0a",
   "metadata": {
    "execution": {
     "iopub.execute_input": "2025-02-24T15:32:41.126340Z",
     "iopub.status.busy": "2025-02-24T15:32:41.126053Z",
     "iopub.status.idle": "2025-02-24T15:32:41.130477Z",
     "shell.execute_reply": "2025-02-24T15:32:41.129496Z"
    },
    "papermill": {
     "duration": 0.01091,
     "end_time": "2025-02-24T15:32:41.132152",
     "exception": false,
     "start_time": "2025-02-24T15:32:41.121242",
     "status": "completed"
    },
    "tags": []
   },
   "outputs": [
    {
     "name": "stdout",
     "output_type": "stream",
     "text": [
      "3\n"
     ]
    }
   ],
   "source": [
    "test_value = 2.17\n",
    "\n",
    "rounded_value = math.ceil(test_value)\n",
    "print(rounded_value)"
   ]
  },
  {
   "cell_type": "markdown",
   "id": "56b662ad",
   "metadata": {
    "papermill": {
     "duration": 0.00408,
     "end_time": "2025-02-24T15:32:41.140844",
     "exception": false,
     "start_time": "2025-02-24T15:32:41.136764",
     "status": "completed"
    },
    "tags": []
   },
   "source": [
    "Use the next code cell to define the function `get_actual_cost()`.  You'll need to use the `math.ceil()` function to do this.\n",
    "\n",
    "When answering this question, note that it's completely valid to define a function that makes use of another function.  For instance, we can define a function `round_up_and_divide_by_three` that makes use of the `math.ceil` function:\n",
    "```\n",
    "def round_up_and_divide_by_three(num):\n",
    "    new_value = math.ceil(num)\n",
    "    final_value = new_value / 3\n",
    "    return final_value\n",
    "```"
   ]
  },
  {
   "cell_type": "code",
   "execution_count": 11,
   "id": "be505727",
   "metadata": {
    "execution": {
     "iopub.execute_input": "2025-02-24T15:32:41.150538Z",
     "iopub.status.busy": "2025-02-24T15:32:41.150198Z",
     "iopub.status.idle": "2025-02-24T15:32:41.157392Z",
     "shell.execute_reply": "2025-02-24T15:32:41.156558Z"
    },
    "papermill": {
     "duration": 0.013581,
     "end_time": "2025-02-24T15:32:41.158659",
     "exception": false,
     "start_time": "2025-02-24T15:32:41.145078",
     "status": "completed"
    },
    "tags": []
   },
   "outputs": [
    {
     "data": {
      "application/javascript": [
       "parent.postMessage({\"jupyterEvent\": \"custom.exercise_interaction\", \"data\": {\"outcomeType\": 1, \"valueTowardsCompletion\": 0.2, \"interactionType\": 1, \"questionType\": 2, \"questionId\": \"5_NoMoreFractions\", \"learnToolsVersion\": \"0.3.4\", \"failureMessage\": \"\", \"exceptionClass\": \"\", \"trace\": \"\"}}, \"*\")"
      ],
      "text/plain": [
       "<IPython.core.display.Javascript object>"
      ]
     },
     "metadata": {},
     "output_type": "display_data"
    },
    {
     "data": {
      "text/markdown": [
       "<span style=\"color:#33cc33\">Correct</span>"
      ],
      "text/plain": [
       "Correct"
      ]
     },
     "metadata": {},
     "output_type": "display_data"
    }
   ],
   "source": [
    "def get_actual_cost(sqft_walls, sqft_ceiling, sqft_per_gallon, cost_per_gallon):\n",
    "\n",
    "# Rounded cost of paint\n",
    "    \n",
    "    # Total squarefeet to be painted \n",
    "    total_squarefeet = sqft_walls + sqft_ceiling\n",
    "    \n",
    "    # Gallons to be bought\n",
    "    gallons_needed = math.ceil(total_squarefeet /  sqft_per_gallon)\n",
    "    \n",
    "    # Cost of paint\n",
    "    cost = gallons_needed * cost_per_gallon\n",
    "    \n",
    "    return cost\n",
    "\n",
    "# Check your answer\n",
    "q5.check()"
   ]
  },
  {
   "cell_type": "code",
   "execution_count": 12,
   "id": "bda01752",
   "metadata": {
    "execution": {
     "iopub.execute_input": "2025-02-24T15:32:41.169864Z",
     "iopub.status.busy": "2025-02-24T15:32:41.169502Z",
     "iopub.status.idle": "2025-02-24T15:32:41.173295Z",
     "shell.execute_reply": "2025-02-24T15:32:41.172441Z"
    },
    "papermill": {
     "duration": 0.010749,
     "end_time": "2025-02-24T15:32:41.174621",
     "exception": false,
     "start_time": "2025-02-24T15:32:41.163872",
     "status": "completed"
    },
    "tags": []
   },
   "outputs": [],
   "source": [
    "# Uncomment to see a hint\n",
    "#q5.hint()\n",
    "\n",
    "# Uncomment to view the solution\n",
    "#q5.solution()"
   ]
  },
  {
   "cell_type": "markdown",
   "id": "1d7bcf58",
   "metadata": {
    "papermill": {
     "duration": 0.00413,
     "end_time": "2025-02-24T15:32:41.183687",
     "exception": false,
     "start_time": "2025-02-24T15:32:41.179557",
     "status": "completed"
    },
    "tags": []
   },
   "source": [
    "Once your function is verified as correct, run the next code cell to calculate the updated cost of your project."
   ]
  },
  {
   "cell_type": "code",
   "execution_count": 13,
   "id": "65880718",
   "metadata": {
    "execution": {
     "iopub.execute_input": "2025-02-24T15:32:41.193245Z",
     "iopub.status.busy": "2025-02-24T15:32:41.192970Z",
     "iopub.status.idle": "2025-02-24T15:32:41.197273Z",
     "shell.execute_reply": "2025-02-24T15:32:41.196635Z"
    },
    "papermill": {
     "duration": 0.01053,
     "end_time": "2025-02-24T15:32:41.198532",
     "exception": false,
     "start_time": "2025-02-24T15:32:41.188002",
     "status": "completed"
    },
    "tags": []
   },
   "outputs": [
    {
     "data": {
      "text/plain": [
       "30"
      ]
     },
     "execution_count": 13,
     "metadata": {},
     "output_type": "execute_result"
    }
   ],
   "source": [
    "get_actual_cost(432, 144, 400, 15) "
   ]
  },
  {
   "cell_type": "markdown",
   "id": "94d399c9",
   "metadata": {
    "papermill": {
     "duration": 0.003996,
     "end_time": "2025-02-24T15:32:41.207037",
     "exception": false,
     "start_time": "2025-02-24T15:32:41.203041",
     "status": "completed"
    },
    "tags": []
   },
   "source": [
    "Say you're working with a slightly larger room.  Run the next code cell to calculate the cost of the project."
   ]
  },
  {
   "cell_type": "code",
   "execution_count": 14,
   "id": "dfbf79c7",
   "metadata": {
    "execution": {
     "iopub.execute_input": "2025-02-24T15:32:41.216537Z",
     "iopub.status.busy": "2025-02-24T15:32:41.216175Z",
     "iopub.status.idle": "2025-02-24T15:32:41.221442Z",
     "shell.execute_reply": "2025-02-24T15:32:41.220588Z"
    },
    "papermill": {
     "duration": 0.01175,
     "end_time": "2025-02-24T15:32:41.223012",
     "exception": false,
     "start_time": "2025-02-24T15:32:41.211262",
     "status": "completed"
    },
    "tags": []
   },
   "outputs": [
    {
     "data": {
      "text/plain": [
       "45"
      ]
     },
     "execution_count": 14,
     "metadata": {},
     "output_type": "execute_result"
    }
   ],
   "source": [
    "get_actual_cost(594, 288, 400, 15) "
   ]
  },
  {
   "cell_type": "markdown",
   "id": "fa8f0714",
   "metadata": {
    "papermill": {
     "duration": 0.004293,
     "end_time": "2025-02-24T15:32:41.232354",
     "exception": false,
     "start_time": "2025-02-24T15:32:41.228061",
     "status": "completed"
    },
    "tags": []
   },
   "source": [
    "# Keep going\n",
    "\n",
    "Continue to learn about **[data types](https://www.kaggle.com/alexisbcook/data-types)**."
   ]
  },
  {
   "cell_type": "markdown",
   "id": "a2f40ae2",
   "metadata": {
    "papermill": {
     "duration": 0.004102,
     "end_time": "2025-02-24T15:32:41.240967",
     "exception": false,
     "start_time": "2025-02-24T15:32:41.236865",
     "status": "completed"
    },
    "tags": []
   },
   "source": [
    "---\n",
    "\n",
    "\n",
    "\n",
    "\n",
    "*Have questions or comments? Visit the [course discussion forum](https://www.kaggle.com/learn/intro-to-programming/discussion) to chat with other learners.*"
   ]
  }
 ],
 "metadata": {
  "kaggle": {
   "accelerator": "none",
   "dataSources": [],
   "isGpuEnabled": false,
   "isInternetEnabled": false,
   "language": "python",
   "sourceType": "notebook"
  },
  "kernelspec": {
   "display_name": "Python 3",
   "language": "python",
   "name": "python3"
  },
  "language_info": {
   "codemirror_mode": {
    "name": "ipython",
    "version": 3
   },
   "file_extension": ".py",
   "mimetype": "text/x-python",
   "name": "python",
   "nbconvert_exporter": "python",
   "pygments_lexer": "ipython3",
   "version": "3.10.12"
  },
  "papermill": {
   "default_parameters": {},
   "duration": 4.284969,
   "end_time": "2025-02-24T15:32:41.765202",
   "environment_variables": {},
   "exception": null,
   "input_path": "__notebook__.ipynb",
   "output_path": "__notebook__.ipynb",
   "parameters": {},
   "start_time": "2025-02-24T15:32:37.480233",
   "version": "2.6.0"
  }
 },
 "nbformat": 4,
 "nbformat_minor": 5
}
