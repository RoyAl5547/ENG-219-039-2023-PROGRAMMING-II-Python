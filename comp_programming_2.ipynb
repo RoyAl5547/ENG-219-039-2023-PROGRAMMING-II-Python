{
  "cells": [
    {
      "cell_type": "markdown",
      "metadata": {
        "id": "view-in-github",
        "colab_type": "text"
      },
      "source": [
        "<a href=\"https://colab.research.google.com/github/RoyAl5547/ENG-219-039-2023_____PROGRAMMING-II-Python-/blob/main/comp_programming_2.ipynb\" target=\"_parent\"><img src=\"https://colab.research.google.com/assets/colab-badge.svg\" alt=\"Open In Colab\"/></a>"
      ]
    },
    {
      "cell_type": "code",
      "execution_count": null,
      "metadata": {
        "colab": {
          "base_uri": "https://localhost:8080/"
        },
        "id": "YJOGn-Fdgvc_",
        "outputId": "0a7872b2-a2fa-47c0-f914-65e51aaaa144"
      },
      "outputs": [
        {
          "name": "stdout",
          "output_type": "stream",
          "text": [
            "Hello, world!\n"
          ]
        }
      ],
      "source": [
        "print(\"Hello, world!\")"
      ]
    },
    {
      "cell_type": "markdown",
      "metadata": {
        "id": "quuFyssFmkaM"
      },
      "source": [
        "#variables\n",
        "store values for later use\n"
      ]
    },
    {
      "cell_type": "code",
      "execution_count": null,
      "metadata": {
        "colab": {
          "base_uri": "https://localhost:8080/"
        },
        "id": "cFtKf-ljmvVp",
        "outputId": "b516547b-26c2-4583-df22-66fb6632fdf7"
      },
      "outputs": [
        {
          "name": "stdout",
          "output_type": "stream",
          "text": [
            "10\n"
          ]
        }
      ],
      "source": [
        "x=7 #assignment operator\n",
        "y=3\n",
        "z=x+y\n",
        "print(z)"
      ]
    },
    {
      "cell_type": "code",
      "execution_count": null,
      "metadata": {
        "colab": {
          "base_uri": "https://localhost:8080/"
        },
        "id": "OWK25mR5nS_D",
        "outputId": "9081a236-3ea3-4892-ce72-2e5bcdb2a59b"
      },
      "outputs": [
        {
          "data": {
            "text/plain": [
              "10"
            ]
          },
          "execution_count": 4,
          "metadata": {},
          "output_type": "execute_result"
        }
      ],
      "source": [
        "total=x+y\n",
        "total"
      ]
    },
    {
      "cell_type": "markdown",
      "metadata": {
        "id": "FNgtIaXWnvGr"
      },
      "source": [
        "variable names are case sensitive"
      ]
    },
    {
      "cell_type": "code",
      "execution_count": null,
      "metadata": {
        "colab": {
          "base_uri": "https://localhost:8080/"
        },
        "id": "X3SpGZPMn7wO",
        "outputId": "524ac6cf-165f-47f1-8d2c-02b85a30ed31"
      },
      "outputs": [
        {
          "name": "stdout",
          "output_type": "stream",
          "text": [
            "mwalimu\n"
          ]
        }
      ],
      "source": [
        "martin = \"mwalimu\"\n",
        "print (martin)"
      ]
    },
    {
      "cell_type": "markdown",
      "metadata": {
        "id": "Foa7VWxzouwZ"
      },
      "source": [
        "##Types\n",
        "integers\n",
        "float\n",
        "string\n",
        "lists\n",
        "dictionary"
      ]
    },
    {
      "cell_type": "code",
      "execution_count": null,
      "metadata": {
        "colab": {
          "base_uri": "https://localhost:8080/"
        },
        "id": "Xd3MhakBpGTK",
        "outputId": "9965ee23-5a5f-4b82-98db-42b50c1a1ce9"
      },
      "outputs": [
        {
          "data": {
            "text/plain": [
              "int"
            ]
          },
          "execution_count": 7,
          "metadata": {},
          "output_type": "execute_result"
        }
      ],
      "source": [
        "type(x)"
      ]
    },
    {
      "cell_type": "code",
      "execution_count": null,
      "metadata": {
        "id": "e6Nl87E5pcHI"
      },
      "outputs": [],
      "source": [
        "3"
      ]
    },
    {
      "cell_type": "code",
      "execution_count": null,
      "metadata": {
        "id": "xXzjtD2Spgro"
      },
      "outputs": [],
      "source": []
    },
    {
      "cell_type": "markdown",
      "metadata": {
        "id": "gIgOfpdfpj7I"
      },
      "source": [
        "#arithmetic operation\n",
        "addition+\n",
        "subtraction-\n",
        "multiplication*\n",
        "exponetiation\n",
        "true division/e.g $x/y$ or $\n",
        "floor division// $\\ifloor{x/y}$\n",
        "remainder{modulo}% e.g r mod s"
      ]
    },
    {
      "cell_type": "code",
      "execution_count": null,
      "metadata": {
        "colab": {
          "base_uri": "https://localhost:8080/"
        },
        "id": "ebIS2iTCq4SH",
        "outputId": "068e2e80-d89a-4db9-cc7e-72d6cdfc84ee"
      },
      "outputs": [
        {
          "data": {
            "text/plain": [
              "1024"
            ]
          },
          "execution_count": 8,
          "metadata": {},
          "output_type": "execute_result"
        }
      ],
      "source": [
        "2**10"
      ]
    },
    {
      "cell_type": "code",
      "execution_count": null,
      "metadata": {
        "colab": {
          "base_uri": "https://localhost:8080/"
        },
        "id": "QwHFq5Urq_cU",
        "outputId": "616e6edb-d361-4169-e474-aa536a47f2dd"
      },
      "outputs": [
        {
          "data": {
            "text/plain": [
              "3.0"
            ]
          },
          "execution_count": 15,
          "metadata": {},
          "output_type": "execute_result"
        }
      ],
      "source": [
        "import math\n",
        "math.sqrt(9)\n"
      ]
    },
    {
      "cell_type": "code",
      "execution_count": null,
      "metadata": {
        "colab": {
          "base_uri": "https://localhost:8080/"
        },
        "id": "66zRVe6OrtPe",
        "outputId": "ade6f4a8-fcaa-49a6-9752-07c66ecaf94b"
      },
      "outputs": [
        {
          "data": {
            "text/plain": [
              "-3.25"
            ]
          },
          "execution_count": 11,
          "metadata": {},
          "output_type": "execute_result"
        }
      ],
      "source": [
        "-13/4"
      ]
    },
    {
      "cell_type": "code",
      "execution_count": null,
      "metadata": {
        "colab": {
          "base_uri": "https://localhost:8080/"
        },
        "id": "3BPLdRc1r4J7",
        "outputId": "9a005fab-1793-49d7-db80-11612c1f7678"
      },
      "outputs": [
        {
          "data": {
            "text/plain": [
              "-4"
            ]
          },
          "execution_count": 12,
          "metadata": {},
          "output_type": "execute_result"
        }
      ],
      "source": [
        "-13//4\n"
      ]
    },
    {
      "cell_type": "markdown",
      "metadata": {
        "id": "8n-C1VlKpeog"
      },
      "source": [
        "## Exceptions and Tracebacks\n"
      ]
    },
    {
      "cell_type": "markdown",
      "metadata": {
        "id": "pSVdmlxepe3l"
      },
      "source": []
    },
    {
      "cell_type": "code",
      "execution_count": null,
      "metadata": {
        "colab": {
          "base_uri": "https://localhost:8080/"
        },
        "id": "yyqmE6DLpcUj",
        "outputId": "5ca31db6-a8c3-4b36-d21d-fffc4124973f"
      },
      "outputs": [
        {
          "data": {
            "text/plain": [
              "2"
            ]
          },
          "execution_count": 1,
          "metadata": {},
          "output_type": "execute_result"
        }
      ],
      "source": [
        "17 % 5"
      ]
    },
    {
      "cell_type": "markdown",
      "metadata": {
        "id": "GKHHp5XZuXFq"
      },
      "source": [
        "## Grouping Expressions with Parenthesis"
      ]
    },
    {
      "cell_type": "code",
      "execution_count": null,
      "metadata": {
        "colab": {
          "base_uri": "https://localhost:8080/"
        },
        "id": "5gCwPFifufDE",
        "outputId": "af80a60a-4979-4f31-8746-e38bb006f9fa"
      },
      "outputs": [
        {
          "data": {
            "text/plain": [
              "80"
            ]
          },
          "execution_count": 2,
          "metadata": {},
          "output_type": "execute_result"
        }
      ],
      "source": [
        "10 * (5+3)"
      ]
    },
    {
      "cell_type": "code",
      "execution_count": null,
      "metadata": {
        "colab": {
          "base_uri": "https://localhost:8080/"
        },
        "id": "US8nb1BouxCC",
        "outputId": "798765fc-11de-41a4-d60b-35dd1ee09266"
      },
      "outputs": [
        {
          "data": {
            "text/plain": [
              "53"
            ]
          },
          "execution_count": 3,
          "metadata": {},
          "output_type": "execute_result"
        }
      ],
      "source": [
        "10 * 5 + 3"
      ]
    },
    {
      "cell_type": "markdown",
      "metadata": {
        "id": "kFpmta2Mu2oZ"
      },
      "source": [
        "## Operator Precedence Rule\n",
        "1. Parentheesis\n",
        "\n",
        "2. Exponetiation\n",
        "\n",
        "3. Multiplication, Division and Modulus\n",
        "\n",
        "4. Addition and Subtraction"
      ]
    },
    {
      "cell_type": "code",
      "execution_count": null,
      "metadata": {
        "colab": {
          "base_uri": "https://localhost:8080/"
        },
        "id": "nzmfiKqgvlc1",
        "outputId": "866a7d02-1e47-4333-f31d-fe603ada86ac"
      },
      "outputs": [
        {
          "data": {
            "text/plain": [
              "-3"
            ]
          },
          "execution_count": 4,
          "metadata": {},
          "output_type": "execute_result"
        }
      ],
      "source": [
        "3 * (4 - 5)"
      ]
    },
    {
      "cell_type": "code",
      "execution_count": null,
      "metadata": {
        "colab": {
          "base_uri": "https://localhost:8080/"
        },
        "id": "OLmThuldv6fr",
        "outputId": "62039bee-720e-42de-fe6c-55e35ed4a920"
      },
      "outputs": [
        {
          "data": {
            "text/plain": [
              "7"
            ]
          },
          "execution_count": 5,
          "metadata": {},
          "output_type": "execute_result"
        }
      ],
      "source": [
        "3 * 4 - 5"
      ]
    },
    {
      "cell_type": "code",
      "execution_count": null,
      "metadata": {
        "colab": {
          "base_uri": "https://localhost:8080/"
        },
        "id": "JKnalVgLwUBu",
        "outputId": "fac3dbb5-9699-44d5-9a37-72e16c9d7a7c"
      },
      "outputs": [
        {
          "data": {
            "text/plain": [
              "531441"
            ]
          },
          "execution_count": 6,
          "metadata": {},
          "output_type": "execute_result"
        }
      ],
      "source": [
        "(((3**2)**3)**2)"
      ]
    },
    {
      "cell_type": "markdown",
      "metadata": {
        "id": "FAXU6EFrxDLr"
      },
      "source": [
        "##function \"print\" and intro to single and double quoted strings"
      ]
    },
    {
      "cell_type": "code",
      "execution_count": null,
      "metadata": {
        "colab": {
          "base_uri": "https://localhost:8080/"
        },
        "id": "U2ybAsXLxWFc",
        "outputId": "04d4c0b2-b4d0-46ec-c6f4-8c1d5bea6a09"
      },
      "outputs": [
        {
          "name": "stdout",
          "output_type": "stream",
          "text": [
            "welcome to the python programming\n"
          ]
        }
      ],
      "source": [
        "print(\"welcome to the python programming\")"
      ]
    },
    {
      "cell_type": "code",
      "execution_count": null,
      "metadata": {
        "id": "XFUY5WKrxvcu"
      },
      "outputs": [],
      "source": []
    },
    {
      "cell_type": "markdown",
      "metadata": {
        "id": "4rtKegHdxzKi"
      },
      "source": [
        "printing a comma separated list"
      ]
    },
    {
      "cell_type": "code",
      "execution_count": null,
      "metadata": {
        "colab": {
          "base_uri": "https://localhost:8080/"
        },
        "id": "6B8Kq5nGx2mD",
        "outputId": "1294f424-f7c4-42e0-bd2a-ea16f8300928"
      },
      "outputs": [
        {
          "name": "stdout",
          "output_type": "stream",
          "text": [
            "welcome to python\n"
          ]
        }
      ],
      "source": [
        "print(\"welcome\", \"to\", \"python\")"
      ]
    },
    {
      "cell_type": "markdown",
      "metadata": {
        "id": "YWVGnDMmyGbR"
      },
      "source": [
        "## printing many lines of text with one statement\n",
        "use backlash (\\)---escape character\n",
        "\n",
        "\\\\ ---newline character\n",
        "\\t---new tab\n",
        "//--insert a backlash character in a string\n",
        "\\\"---"
      ]
    },
    {
      "cell_type": "code",
      "execution_count": null,
      "metadata": {
        "colab": {
          "base_uri": "https://localhost:8080/"
        },
        "id": "oBBfFhl0zixE",
        "outputId": "61d6c3f6-1c5b-406f-bac2-6d13e078e0c9"
      },
      "outputs": [
        {
          "name": "stdout",
          "output_type": "stream",
          "text": [
            "weta said, \"pythn is great\"\n"
          ]
        }
      ],
      "source": [
        "print('weta said, \"pythn is great\"')"
      ]
    },
    {
      "cell_type": "code",
      "execution_count": null,
      "metadata": {
        "colab": {
          "base_uri": "https://localhost:8080/"
        },
        "id": "pVMxQlF8ye1E",
        "outputId": "87021611-84b8-4268-e0fc-32822f26fd4d"
      },
      "outputs": [
        {
          "name": "stdout",
          "output_type": "stream",
          "text": [
            "welcome \n",
            "to\n",
            "python!\n"
          ]
        }
      ],
      "source": [
        "print(\"welcome\\nto\\npython!\")"
      ]
    },
    {
      "cell_type": "code",
      "execution_count": null,
      "metadata": {
        "colab": {
          "base_uri": "https://localhost:8080/"
        },
        "id": "sxMBawCDy1Bt",
        "outputId": "10689954-9e8b-41ad-cdd3-50a309006217"
      },
      "outputs": [
        {
          "name": "stdout",
          "output_type": "stream",
          "text": [
            "what is your name?wayne gurema omukubi\n"
          ]
        }
      ],
      "source": [
        "name=input(\"what is your name?\")"
      ]
    },
    {
      "cell_type": "code",
      "execution_count": null,
      "metadata": {
        "colab": {
          "base_uri": "https://localhost:8080/",
          "height": 35
        },
        "id": "u-naas7C0gmf",
        "outputId": "6207d73d-6a40-4a37-a62b-a823735601da"
      },
      "outputs": [
        {
          "data": {
            "application/vnd.google.colaboratory.intrinsic+json": {
              "type": "string"
            },
            "text/plain": [
              "'wayne gurema omukubi'"
            ]
          },
          "execution_count": 15,
          "metadata": {},
          "output_type": "execute_result"
        }
      ],
      "source": [
        "name"
      ]
    },
    {
      "cell_type": "code",
      "execution_count": null,
      "metadata": {
        "colab": {
          "base_uri": "https://localhost:8080/"
        },
        "id": "LJCCrdWX0mUe",
        "outputId": "c6f18b3d-2c61-4d51-8d0e-3563f2a4ae69"
      },
      "outputs": [
        {
          "name": "stdout",
          "output_type": "stream",
          "text": [
            "wayne gurema omukubi\n"
          ]
        }
      ],
      "source": [
        "print(name)"
      ]
    },
    {
      "cell_type": "code",
      "execution_count": 7,
      "metadata": {
        "colab": {
          "base_uri": "https://localhost:8080/"
        },
        "id": "Kand0UQj1QuK",
        "outputId": "39112a4b-ac96-47c3-ab54-8cd0cedb49d3"
      },
      "outputs": [
        {
          "output_type": "stream",
          "name": "stdout",
          "text": [
            "Enter height 1: 160\n",
            "Enter height 2: 170\n",
            "Enter height 3: 180\n",
            "The average height is: 170.0\n"
          ]
        }
      ],
      "source": [
        "\n",
        "x = int(input(\"Enter height 1: \"))\n",
        "y = int(input(\"Enter height 2: \"))\n",
        "z = int(input(\"Enter height 3: \"))\n",
        "\n",
        "total = x + y + z\n",
        "count = 3\n",
        "average = total / count\n",
        "\n",
        "print(\"The average height is:\", average)"
      ]
    },
    {
      "cell_type": "code",
      "execution_count": null,
      "metadata": {
        "colab": {
          "base_uri": "https://localhost:8080/"
        },
        "id": "xJmhm5UxDkql",
        "outputId": "0ef760f7-208d-494c-f684-ed9a0f521e11"
      },
      "outputs": [
        {
          "name": "stdout",
          "output_type": "stream",
          "text": [
            "Enter height 1: 88\n",
            "Enter height 2 (in meters): 99\n",
            "Enter height 3 (in centimeters): 44\n",
            "The average height is: 77.0\n"
          ]
        }
      ],
      "source": [
        "x = float(input(\"Enter height 1: \"))\n",
        "y = float(input(\"Enter height 2 (in meters): \"))\n",
        "z = float(input(\"Enter height 3 (in centimeters): \"))\n",
        "\n",
        "total = x + y + z\n",
        "count = 3\n",
        "average = total / count\n",
        "\n",
        "print(\"The average height is:\", average)"
      ]
    },
    {
      "cell_type": "code",
      "execution_count": null,
      "metadata": {
        "colab": {
          "base_uri": "https://localhost:8080/"
        },
        "id": "3bVOMFXGBLta",
        "outputId": "f65cec1e-6746-4be8-ea13-628f3f1b605b"
      },
      "outputs": [
        {
          "data": {
            "text/plain": [
              "True"
            ]
          },
          "execution_count": 1,
          "metadata": {},
          "output_type": "execute_result"
        }
      ],
      "source": [
        "7 > 4"
      ]
    },
    {
      "cell_type": "code",
      "execution_count": null,
      "metadata": {
        "colab": {
          "base_uri": "https://localhost:8080/"
        },
        "id": "KzWCTviVCRgn",
        "outputId": "d4f1c2f7-eb7f-4881-9539-4f0268119c34"
      },
      "outputs": [
        {
          "data": {
            "text/plain": [
              "True"
            ]
          },
          "execution_count": 9,
          "metadata": {},
          "output_type": "execute_result"
        }
      ],
      "source": [
        "7 >= 4"
      ]
    },
    {
      "cell_type": "code",
      "execution_count": 1,
      "metadata": {
        "colab": {
          "base_uri": "https://localhost:8080/"
        },
        "id": "pByrct_KDzUg",
        "outputId": "8fb5811d-5d72-4f5f-f3ff-87aeddb6fcaa"
      },
      "outputs": [
        {
          "output_type": "stream",
          "name": "stdout",
          "text": [
            "Enter first integer: 55\n",
            "Enter second integer: 45\n",
            "55 is greater than 45\n"
          ]
        }
      ],
      "source": [
        "#code from Dietel's book\n",
        "\"\"\" Comparing two integers \"\"\"\n",
        "x = int(input(\"Enter first integer: \"))\n",
        "y = int(input(\"Enter second integer: \"))\n",
        "if x > y:\n",
        "  print(x, \"is greater than\", y)\n",
        "\n",
        "  if x == y:\n",
        "    print(x, \"is equal to\", y)\n",
        "\n",
        "    if x < y:\n",
        "      print(x, \"is less than\", y)\n",
        "\n",
        "    if x != y:\n",
        "     print(x, \"is not equal to\", y)\n",
        "\n",
        "    if x >= y:\n",
        "     print(x, \"is greater than or equal to\", y)\n",
        "\n",
        "    if x <= y:\n",
        "     print(x, \"is less than or equal to\", y)"
      ]
    },
    {
      "cell_type": "code",
      "execution_count": null,
      "metadata": {
        "colab": {
          "base_uri": "https://localhost:8080/"
        },
        "id": "_mWfMIbwGSCp",
        "outputId": "9a366757-9751-4823-99c2-b2a0dfca2dca"
      },
      "outputs": [
        {
          "output_type": "stream",
          "name": "stdout",
          "text": [
            "Enter your age: 66\n",
            "Adult.\n"
          ]
        }
      ],
      "source": [
        "age = int(input(\"Enter your age: \"))\n",
        "\n",
        "if age >= 18:\n",
        "    print(\"Adult.\")\n",
        "if age < 18:\n",
        "    print(\"Minor.\")\n",
        "    if age < 18 and age > 12:\n",
        "     print(\"Teenager.\")\n",
        "    if age <= 12:\n",
        "      print(\"Child.\")\n",
        "\n"
      ]
    },
    {
      "cell_type": "markdown",
      "metadata": {
        "id": "DDodBeg0HC2h"
      },
      "source": [
        "##Boolean Operators\n",
        "\n",
        "and __ A and B = Both conditions need to be satisfied\n",
        "\n",
        "or ___ A or B - either one of the conditions can be satisfied\n",
        "\n",
        "not ___ not A - negative condition A"
      ]
    },
    {
      "cell_type": "code",
      "execution_count": null,
      "metadata": {
        "id": "lWU0kVxUJ_qh"
      },
      "outputs": [],
      "source": []
    },
    {
      "cell_type": "markdown",
      "source": [
        "# Introduction to Data Science\n",
        "\n",
        "## Basic descriptive statistics\n",
        "Minimum - min()\n",
        "\n",
        "maximum - min()\n",
        "\n",
        "range - range() ___ measure of dispersion/variability (determines how spread out our values are)\n",
        "\n",
        "count - number of of values in a collection\n",
        "\n",
        "sum - sum()"
      ],
      "metadata": {
        "id": "PlZt5fHTMggD"
      }
    },
    {
      "cell_type": "markdown",
      "source": [
        "##Determine the Minimum of three numbers"
      ],
      "metadata": {
        "id": "tsE6Fz4eORdC"
      }
    },
    {
      "cell_type": "code",
      "source": [
        "\"\"\"Find the minimum of three values.\"\"\"\n",
        "number1 = int(input('Enter first integer: '))\n",
        "number2 = int(input('Enter second integer: '))\n",
        "number3 = int(input('Enter third integer: '))\n",
        "minimum = number1\n",
        "\n",
        "if number2 < minimum:\n",
        "  minimum = number2\n",
        "\n",
        "if number3 < minimum:\n",
        "  minimum = number3\n",
        "\n",
        "print('Minimum value is', minimum)"
      ],
      "metadata": {
        "colab": {
          "base_uri": "https://localhost:8080/"
        },
        "id": "-DVto-i1Od3V",
        "outputId": "5ba4ee8d-a718-4641-e185-06fab0ddcf4b"
      },
      "execution_count": null,
      "outputs": [
        {
          "output_type": "stream",
          "name": "stdout",
          "text": [
            "Enter first integer: 11\n",
            "Enter second integer: 99\n",
            "Enter third integer: 66\n",
            "Minimum value is 11\n"
          ]
        }
      ]
    },
    {
      "cell_type": "markdown",
      "source": [
        "##Determine the minimum and maximum with Built_In functions min() and max()"
      ],
      "metadata": {
        "id": "7fySSZ7wP4-3"
      }
    },
    {
      "cell_type": "code",
      "source": [
        "max(187, 180, 160, 144)"
      ],
      "metadata": {
        "colab": {
          "base_uri": "https://localhost:8080/"
        },
        "id": "RtJsTKNaQRwu",
        "outputId": "4df8a39b-8134-4273-ec6d-9ed4f358f21d"
      },
      "execution_count": null,
      "outputs": [
        {
          "output_type": "execute_result",
          "data": {
            "text/plain": [
              "187"
            ]
          },
          "metadata": {},
          "execution_count": 31
        }
      ]
    },
    {
      "cell_type": "code",
      "source": [
        "min(187, 180, 160, 144)"
      ],
      "metadata": {
        "colab": {
          "base_uri": "https://localhost:8080/"
        },
        "id": "1IhIhXTZQfr1",
        "outputId": "4f77a61d-ff70-4664-a406-22b64c1e8953"
      },
      "execution_count": null,
      "outputs": [
        {
          "output_type": "execute_result",
          "data": {
            "text/plain": [
              "144"
            ]
          },
          "metadata": {},
          "execution_count": 32
        }
      ]
    },
    {
      "cell_type": "code",
      "source": [
        "heights = [187, 180, 160, 133]  #This is a list\n",
        "type(heights)\n"
      ],
      "metadata": {
        "colab": {
          "base_uri": "https://localhost:8080/"
        },
        "id": "JMGCKwLMQqVN",
        "outputId": "f38f3e46-79bc-45a2-e6f3-bdb4dcd8c132"
      },
      "execution_count": null,
      "outputs": [
        {
          "output_type": "execute_result",
          "data": {
            "text/plain": [
              "list"
            ]
          },
          "metadata": {},
          "execution_count": 36
        }
      ]
    },
    {
      "cell_type": "code",
      "source": [
        "sum(heights)"
      ],
      "metadata": {
        "colab": {
          "base_uri": "https://localhost:8080/"
        },
        "id": "r2HRisQjRFIo",
        "outputId": "44cfde12-0ae1-4e18-d5ff-c0956ef180c6"
      },
      "execution_count": null,
      "outputs": [
        {
          "output_type": "execute_result",
          "data": {
            "text/plain": [
              "660"
            ]
          },
          "metadata": {},
          "execution_count": 37
        }
      ]
    },
    {
      "cell_type": "markdown",
      "source": [
        "##Addition program\n",
        "\n",
        "Prompt user to enter digit x\n",
        "\n",
        "Prompt user to enter digit y\n",
        "\n",
        "Add the two numbers and store the result  [z = x + y]\n",
        "\n",
        "output the result [print z]\n",
        "\n"
      ],
      "metadata": {
        "id": "73D2hz3bSNtf"
      }
    }
  ],
  "metadata": {
    "colab": {
      "provenance": [],
      "include_colab_link": true
    },
    "kernelspec": {
      "display_name": "Python 3",
      "name": "python3"
    },
    "language_info": {
      "name": "python"
    }
  },
  "nbformat": 4,
  "nbformat_minor": 0
}