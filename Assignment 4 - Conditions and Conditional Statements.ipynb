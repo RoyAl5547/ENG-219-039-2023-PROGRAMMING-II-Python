{
 "cells": [
  {
   "cell_type": "markdown",
   "id": "0f69193b",
   "metadata": {
    "papermill": {
     "duration": 0.007391,
     "end_time": "2025-02-25T19:32:15.889295",
     "exception": false,
     "start_time": "2025-02-25T19:32:15.881904",
     "status": "completed"
    },
    "tags": []
   },
   "source": [
    "**This notebook is an exercise in the [Intro to Programming](https://www.kaggle.com/learn/intro-to-programming) course.  You can reference the tutorial at [this link](https://www.kaggle.com/alexisbcook/conditions-and-conditional-statements).**\n",
    "\n",
    "---\n"
   ]
  },
  {
   "cell_type": "markdown",
   "id": "4050f7e9",
   "metadata": {
    "papermill": {
     "duration": 0.005113,
     "end_time": "2025-02-25T19:32:15.900546",
     "exception": false,
     "start_time": "2025-02-25T19:32:15.895433",
     "status": "completed"
    },
    "tags": []
   },
   "source": [
    "In the tutorial, you learned about conditions and conditional statements. In this exercise, you will use what you learned to answer several questions.\n",
    "\n",
    "# Set up the notebook\n",
    "\n",
    "Run the next code cell without changes to set up the notebook."
   ]
  },
  {
   "cell_type": "code",
   "execution_count": 1,
   "id": "cfe65788",
   "metadata": {
    "execution": {
     "iopub.execute_input": "2025-02-25T19:32:15.912126Z",
     "iopub.status.busy": "2025-02-25T19:32:15.911752Z",
     "iopub.status.idle": "2025-02-25T19:32:16.692472Z",
     "shell.execute_reply": "2025-02-25T19:32:16.691330Z"
    },
    "papermill": {
     "duration": 0.788247,
     "end_time": "2025-02-25T19:32:16.693987",
     "exception": false,
     "start_time": "2025-02-25T19:32:15.905740",
     "status": "completed"
    },
    "tags": []
   },
   "outputs": [
    {
     "name": "stdout",
     "output_type": "stream",
     "text": [
      "Setup complete.\n"
     ]
    }
   ],
   "source": [
    "from learntools.core import binder\n",
    "binder.bind(globals())\n",
    "from learntools.intro_to_programming.ex4 import *\n",
    "print('Setup complete.')"
   ]
  },
  {
   "cell_type": "markdown",
   "id": "d5c2bf14",
   "metadata": {
    "papermill": {
     "duration": 0.005227,
     "end_time": "2025-02-25T19:32:16.704975",
     "exception": false,
     "start_time": "2025-02-25T19:32:16.699748",
     "status": "completed"
    },
    "tags": []
   },
   "source": [
    "# Question 1\n",
    "\n",
    "You work at a college admissions office.  When inspecting a dataset of college applicants, you notice that some students have represented their grades with letters (`\"A\"`, `\"B\"`, `\"C\"`, `\"D\"`, `\"F\"`), whereas others have represented their grades with a number between 0 and 100.\n",
    "\n",
    "You realize that for consistency, all of the grades should be formatted in the same way, and you decide to format them all as letters.  For the conversion, you decide to assign:\n",
    "- `\"A\"` - any grade 90-100, inclusive\n",
    "- `\"B\"` - any grade 80-89, inclusive\n",
    "- `\"C\"` - any grade 70-79, inclusive\n",
    "- `\"D\"` - any grade 60-69, inclusive\n",
    "- `\"F\"` - any grade <60\n",
    "\n",
    "Write a function `get_grade()` that takes as input:\n",
    "- `score` - an integer 0-100 corresponding to a numerical grade\n",
    "\n",
    "It should return a Python string with the letter grade that it corresponds to.  For instance,\n",
    "- A score of 85 corresponds to a B grade.  In other words, `get_grade(85)` should return `\"B\"`.\n",
    "- A score of 49 corresponds to an F grade.  In other words, `get_grade(49)` should return `\"F\"`.\n",
    "\n",
    "Make sure that when supplying the grade that is returned by the function, it is enclosed in quotes.  (For instance, if you want to return `\"A\"`, you should write `return \"A\"` and not `return A`.)"
   ]
  },
  {
   "cell_type": "code",
   "execution_count": 2,
   "id": "ae62432c",
   "metadata": {
    "execution": {
     "iopub.execute_input": "2025-02-25T19:32:16.717528Z",
     "iopub.status.busy": "2025-02-25T19:32:16.717082Z",
     "iopub.status.idle": "2025-02-25T19:32:16.725852Z",
     "shell.execute_reply": "2025-02-25T19:32:16.724937Z"
    },
    "papermill": {
     "duration": 0.016492,
     "end_time": "2025-02-25T19:32:16.727451",
     "exception": false,
     "start_time": "2025-02-25T19:32:16.710959",
     "status": "completed"
    },
    "tags": []
   },
   "outputs": [
    {
     "data": {
      "application/javascript": [
       "parent.postMessage({\"jupyterEvent\": \"custom.exercise_interaction\", \"data\": {\"outcomeType\": 1, \"valueTowardsCompletion\": 0.2, \"interactionType\": 1, \"questionType\": 2, \"questionId\": \"1_GetGrade\", \"learnToolsVersion\": \"0.3.4\", \"failureMessage\": \"\", \"exceptionClass\": \"\", \"trace\": \"\"}}, \"*\")"
      ],
      "text/plain": [
       "<IPython.core.display.Javascript object>"
      ]
     },
     "metadata": {},
     "output_type": "display_data"
    },
    {
     "data": {
      "text/markdown": [
       "<span style=\"color:#33cc33\">Correct</span>"
      ],
      "text/plain": [
       "Correct"
      ]
     },
     "metadata": {},
     "output_type": "display_data"
    }
   ],
   "source": [
    "# TODO: Edit the function to return the correct grade for different scores\n",
    "def get_grade(score):\n",
    "    if score >= 90 and score <= 100 :\n",
    "        grade = \"A\"\n",
    "    elif score >= 80 and score <= 89 :\n",
    "        grade = \"B\"\n",
    "    elif score >= 70 and score <= 79 :\n",
    "        grade = \"C\"\n",
    "    elif score >= 60 and score <= 69 :\n",
    "        grade = \"D\"\n",
    "    else:\n",
    "        grade = \"F\"\n",
    "\n",
    "    return grade\n",
    "    \n",
    "# Check your answer\n",
    "q1.check()"
   ]
  },
  {
   "cell_type": "code",
   "execution_count": 3,
   "id": "85bbf62e",
   "metadata": {
    "execution": {
     "iopub.execute_input": "2025-02-25T19:32:16.739426Z",
     "iopub.status.busy": "2025-02-25T19:32:16.739153Z",
     "iopub.status.idle": "2025-02-25T19:32:16.742443Z",
     "shell.execute_reply": "2025-02-25T19:32:16.741553Z"
    },
    "papermill": {
     "duration": 0.010708,
     "end_time": "2025-02-25T19:32:16.743844",
     "exception": false,
     "start_time": "2025-02-25T19:32:16.733136",
     "status": "completed"
    },
    "tags": []
   },
   "outputs": [],
   "source": [
    "# Uncomment to see a hint\n",
    "#q1.hint()\n",
    "\n",
    "# Uncomment to see the solution\n",
    "#q1.solution()"
   ]
  },
  {
   "cell_type": "markdown",
   "id": "744b1eef",
   "metadata": {
    "papermill": {
     "duration": 0.00519,
     "end_time": "2025-02-25T19:32:16.754597",
     "exception": false,
     "start_time": "2025-02-25T19:32:16.749407",
     "status": "completed"
    },
    "tags": []
   },
   "source": [
    "# Question 2\n",
    "\n",
    "In the exercise for the previous lesson, you wrote a function `cost_of_project()` that estimated the price of rings for an online shop that sells rings with custom engravings.  This function did not use conditional statements.  In this exercise, you will rewrite the function to use conditional statements.  Recall that the online shop has the following price structure:\n",
    "- Gold plated rings have a base cost of \\\\$50, and you charge \\\\$7 per engraved unit.  \n",
    "- Solid gold rings have a base cost of \\\\$100, and you charge \\\\$10 per engraved unit.\n",
    "- Spaces and punctuation are counted as engraved units.\n",
    "\n",
    "Your function `cost_of_project()` takes two arguments:\n",
    "- `engraving` - a Python string with the text of the engraving\n",
    "- `solid_gold` - a Boolean that indicates whether the ring is solid gold\n",
    "\n",
    "It should return the cost of the project.  \n",
    "\n",
    "The function has been partially completed for you, and you need to fill in the blanks to complete the function."
   ]
  },
  {
   "cell_type": "code",
   "execution_count": 4,
   "id": "07623c55",
   "metadata": {
    "execution": {
     "iopub.execute_input": "2025-02-25T19:32:16.766423Z",
     "iopub.status.busy": "2025-02-25T19:32:16.766123Z",
     "iopub.status.idle": "2025-02-25T19:32:16.773286Z",
     "shell.execute_reply": "2025-02-25T19:32:16.772503Z"
    },
    "papermill": {
     "duration": 0.014683,
     "end_time": "2025-02-25T19:32:16.774749",
     "exception": false,
     "start_time": "2025-02-25T19:32:16.760066",
     "status": "completed"
    },
    "tags": []
   },
   "outputs": [
    {
     "data": {
      "application/javascript": [
       "parent.postMessage({\"jupyterEvent\": \"custom.exercise_interaction\", \"data\": {\"outcomeType\": 1, \"valueTowardsCompletion\": 0.2, \"interactionType\": 1, \"questionType\": 2, \"questionId\": \"2_CostProjectPartDeux\", \"learnToolsVersion\": \"0.3.4\", \"failureMessage\": \"\", \"exceptionClass\": \"\", \"trace\": \"\"}}, \"*\")"
      ],
      "text/plain": [
       "<IPython.core.display.Javascript object>"
      ]
     },
     "metadata": {},
     "output_type": "display_data"
    },
    {
     "data": {
      "text/markdown": [
       "<span style=\"color:#33cc33\">Correct</span>"
      ],
      "text/plain": [
       "Correct"
      ]
     },
     "metadata": {},
     "output_type": "display_data"
    }
   ],
   "source": [
    "def cost_of_project(engraving, solid_gold):\n",
    "    if solid_gold == True:\n",
    "        cost = 100 + (10*len(engraving))\n",
    "    else:\n",
    "        cost = 50 + (7*len(engraving))\n",
    "    return cost\n",
    "\n",
    "# Check your answer\n",
    "q2.check()"
   ]
  },
  {
   "cell_type": "code",
   "execution_count": 5,
   "id": "ef7f6464",
   "metadata": {
    "execution": {
     "iopub.execute_input": "2025-02-25T19:32:16.787359Z",
     "iopub.status.busy": "2025-02-25T19:32:16.787072Z",
     "iopub.status.idle": "2025-02-25T19:32:16.790075Z",
     "shell.execute_reply": "2025-02-25T19:32:16.789374Z"
    },
    "papermill": {
     "duration": 0.010839,
     "end_time": "2025-02-25T19:32:16.791443",
     "exception": false,
     "start_time": "2025-02-25T19:32:16.780604",
     "status": "completed"
    },
    "tags": []
   },
   "outputs": [],
   "source": [
    "# Uncomment to see a hint\n",
    "#q2.hint()\n",
    "\n",
    "# Uncomment to see the solution\n",
    "#q2.solution()"
   ]
  },
  {
   "cell_type": "markdown",
   "id": "bd2adef5",
   "metadata": {
    "papermill": {
     "duration": 0.005438,
     "end_time": "2025-02-25T19:32:16.802670",
     "exception": false,
     "start_time": "2025-02-25T19:32:16.797232",
     "status": "completed"
    },
    "tags": []
   },
   "source": [
    "# Question 3\n",
    "\n",
    "You are a programmer at a water agency.  Recently, you have been tasked to write a function `get_water_bill()` that takes as input:\n",
    "- `num_gallons` = the number of gallons of water that a customer used that month.  (This will always be an integer with no decimal part.)\n",
    "\n",
    "It should output the water bill.  \n",
    "\n",
    "The water agency uses this pricing structure:\n",
    "<table style=\"width: 100%;\">\n",
    "<tbody>\n",
    "<tr><th><b>Tier</b></th><th><b>Amount in gallons</b></th><th><b>Price per 1000 gallons</b></th></tr>\n",
    "<tr>\n",
    "<td>Tier 1</td>\n",
    "<td>0 - 8,000</td>\n",
    "<td>\\$5</td>\n",
    "</tr>\n",
    "<tr>\n",
    "<td>Tier 2</td>\n",
    "<td>8,001 - 22,000</td>\n",
    "<td>\\$6</td>\n",
    "</tr>\n",
    "<tr>\n",
    "<td>Tier 3</td>\n",
    "<td>22,001 - 30,000</td>\n",
    "<td>\\$7</td>\n",
    "</tr>\n",
    "<tr>\n",
    "<td>Tier 4</td>\n",
    "<td>30,001+</td>\n",
    "<td>\\$10</td>\n",
    "</tr>\n",
    "</tbody>\n",
    "</table>\n",
    "\n",
    "For example: \n",
    "- Someone who uses 10,000 gallons of water in a month is placed in Tier 2, and needs to pay a water bill of \\\\$6 * 10 = \\\\$60.  In other words, `get_water_bill(10000)` should return `60.0`.\n",
    "- Someone who uses 25,000 gallons of water in a month is placed in Tier 3, and needs to pay a water bill of \\\\$7 * 25 = \\\\$175.  In other words, `get_water_bill(25000)` should return `175.0`.\n",
    "\n",
    "**Do not round your answer.**  So, your answer might return fractions of a penny."
   ]
  },
  {
   "cell_type": "code",
   "execution_count": 6,
   "id": "db63c715",
   "metadata": {
    "execution": {
     "iopub.execute_input": "2025-02-25T19:32:16.815107Z",
     "iopub.status.busy": "2025-02-25T19:32:16.814766Z",
     "iopub.status.idle": "2025-02-25T19:32:16.822642Z",
     "shell.execute_reply": "2025-02-25T19:32:16.821866Z"
    },
    "papermill": {
     "duration": 0.015758,
     "end_time": "2025-02-25T19:32:16.824145",
     "exception": false,
     "start_time": "2025-02-25T19:32:16.808387",
     "status": "completed"
    },
    "tags": []
   },
   "outputs": [
    {
     "data": {
      "application/javascript": [
       "parent.postMessage({\"jupyterEvent\": \"custom.exercise_interaction\", \"data\": {\"outcomeType\": 1, \"valueTowardsCompletion\": 0.2, \"interactionType\": 1, \"questionType\": 2, \"questionId\": \"3_GetWaterBill\", \"learnToolsVersion\": \"0.3.4\", \"failureMessage\": \"\", \"exceptionClass\": \"\", \"trace\": \"\"}}, \"*\")"
      ],
      "text/plain": [
       "<IPython.core.display.Javascript object>"
      ]
     },
     "metadata": {},
     "output_type": "display_data"
    },
    {
     "data": {
      "text/markdown": [
       "<span style=\"color:#33cc33\">Correct</span>"
      ],
      "text/plain": [
       "Correct"
      ]
     },
     "metadata": {},
     "output_type": "display_data"
    }
   ],
   "source": [
    "# TODO: Edit the function to return the correct bill for different\n",
    "# values of num_gallons\n",
    "def get_water_bill(num_gallons):\n",
    "    # Tier 1 billings\n",
    "    if num_gallons >= 0 and num_gallons <= 8000:\n",
    "        bill = (num_gallons/1000) * 5\n",
    "    # Tier 2 billings\n",
    "    elif num_gallons >= 8001 and num_gallons <= 22000:\n",
    "        bill = (num_gallons/1000) * 6\n",
    "    # Tier 3 billings\n",
    "    elif num_gallons >= 22001 and num_gallons <= 30000:\n",
    "        bill = (num_gallons/1000) * 7\n",
    "    # Tier 4 billings\n",
    "    else:\n",
    "        bill = (num_gallons/1000) * 10\n",
    "    return bill\n",
    "\n",
    "# Check your answer\n",
    "q3.check()"
   ]
  },
  {
   "cell_type": "code",
   "execution_count": 7,
   "id": "bba6f6b1",
   "metadata": {
    "execution": {
     "iopub.execute_input": "2025-02-25T19:32:16.837069Z",
     "iopub.status.busy": "2025-02-25T19:32:16.836762Z",
     "iopub.status.idle": "2025-02-25T19:32:16.839805Z",
     "shell.execute_reply": "2025-02-25T19:32:16.839116Z"
    },
    "papermill": {
     "duration": 0.010945,
     "end_time": "2025-02-25T19:32:16.841102",
     "exception": false,
     "start_time": "2025-02-25T19:32:16.830157",
     "status": "completed"
    },
    "tags": []
   },
   "outputs": [],
   "source": [
    "# Uncomment to see a hint\n",
    "#q3.hint()\n",
    "\n",
    "# Uncomment to see the solution\n",
    "#q3.solution()"
   ]
  },
  {
   "cell_type": "markdown",
   "id": "9b1fb0ca",
   "metadata": {
    "papermill": {
     "duration": 0.005605,
     "end_time": "2025-02-25T19:32:16.852641",
     "exception": false,
     "start_time": "2025-02-25T19:32:16.847036",
     "status": "completed"
    },
    "tags": []
   },
   "source": [
    "# Question 4\n",
    "\n",
    "You work for a company that provides data services.  For \\\\$100/month, your company provides 15 gigabytes (GB) of data.  Then, any additional data is billed at \\\\$0.10/MB (or \\\\$100/GB, since 1,000 MB are in 1 GB).\n",
    "\n",
    "Use the next code cell to write a function `get_phone_bill()` that takes as input:\n",
    "- `gb` = number of GB that the customer used in a month\n",
    "\n",
    "It should return the customer's total phone bill.\n",
    "\n",
    "For instance:\n",
    "- A customer who uses 10 GB of data in one month is billed only \\\\$100, since the usage stayed under 15 GB.  In other words, `get_phone_bill(10)` should return `100`.\n",
    "- A customer who uses 15.1 GB (or 15 GB + 100 MB) of data in one month has gone over by .1 GB, so they must pay \\\\$100 (cost of plan), plus \\\\$0.10 * 100 = \\\\$10, for a total bill of \\\\$110.  In other words, `get_phone_bill(15.1)` should return `110`.\n",
    "\n",
    "Do not round your answer."
   ]
  },
  {
   "cell_type": "code",
   "execution_count": 8,
   "id": "97b09756",
   "metadata": {
    "execution": {
     "iopub.execute_input": "2025-02-25T19:32:16.865463Z",
     "iopub.status.busy": "2025-02-25T19:32:16.865157Z",
     "iopub.status.idle": "2025-02-25T19:32:16.872472Z",
     "shell.execute_reply": "2025-02-25T19:32:16.871715Z"
    },
    "papermill": {
     "duration": 0.015233,
     "end_time": "2025-02-25T19:32:16.873790",
     "exception": false,
     "start_time": "2025-02-25T19:32:16.858557",
     "status": "completed"
    },
    "tags": []
   },
   "outputs": [
    {
     "data": {
      "application/javascript": [
       "parent.postMessage({\"jupyterEvent\": \"custom.exercise_interaction\", \"data\": {\"outcomeType\": 1, \"valueTowardsCompletion\": 0.2, \"interactionType\": 1, \"questionType\": 2, \"questionId\": \"4_GetPhoneBill\", \"learnToolsVersion\": \"0.3.4\", \"failureMessage\": \"\", \"exceptionClass\": \"\", \"trace\": \"\"}}, \"*\")"
      ],
      "text/plain": [
       "<IPython.core.display.Javascript object>"
      ]
     },
     "metadata": {},
     "output_type": "display_data"
    },
    {
     "data": {
      "text/markdown": [
       "<span style=\"color:#33cc33\">Correct</span>"
      ],
      "text/plain": [
       "Correct"
      ]
     },
     "metadata": {},
     "output_type": "display_data"
    }
   ],
   "source": [
    "# TODO: Edit the function to return the correct bill for different\n",
    "# values of GB\n",
    "def get_phone_bill(gb):\n",
    "    if gb <= 15 :\n",
    "        bill = 100\n",
    "    else:\n",
    "        bill = 100 + ((gb - 15) * 100)\n",
    "    return bill\n",
    "\n",
    "# Check your answer\n",
    "q4.check()"
   ]
  },
  {
   "cell_type": "code",
   "execution_count": 9,
   "id": "091fa601",
   "metadata": {
    "execution": {
     "iopub.execute_input": "2025-02-25T19:32:16.887185Z",
     "iopub.status.busy": "2025-02-25T19:32:16.886882Z",
     "iopub.status.idle": "2025-02-25T19:32:16.890242Z",
     "shell.execute_reply": "2025-02-25T19:32:16.889321Z"
    },
    "papermill": {
     "duration": 0.011729,
     "end_time": "2025-02-25T19:32:16.891748",
     "exception": false,
     "start_time": "2025-02-25T19:32:16.880019",
     "status": "completed"
    },
    "tags": []
   },
   "outputs": [],
   "source": [
    "# Uncomment to see a hint\n",
    "#q4.hint()\n",
    "\n",
    "# Uncomment to see the solution\n",
    "#q4.solution()"
   ]
  },
  {
   "cell_type": "markdown",
   "id": "72a769cf",
   "metadata": {
    "papermill": {
     "duration": 0.005823,
     "end_time": "2025-02-25T19:32:16.903880",
     "exception": false,
     "start_time": "2025-02-25T19:32:16.898057",
     "status": "completed"
    },
    "tags": []
   },
   "source": [
    "# 🌶️ Question 5\n",
    "\n",
    "In Mexico, foods and beverages that are high in saturated fat, trans fat, sugar, sodium, and/or calories appear with warning labels that are designed to help consumers make healthy food choices.\n",
    "\n",
    "For instance, the [box of cookies](https://world.openfoodfacts.org/product/7501000673209/florentinas-gamesa) in the image below appears with two labels (in the upper right corner):\n",
    "- EXCESO CALORÍAS (in English, EXCESS CALORIES)\n",
    "- EXCESO AZÚCARES (in English, EXCESS SUGAR)\n",
    "\n",
    "<center><img src=\"https://storage.googleapis.com/kaggle-media/learn/images/VXYKHnM.png\" alt=\"drawing\" width=\"500\"/></center>\n",
    "\n",
    "In this question, you'll work with a function `get_labels()` that takes the nutritional details about a food item and prints the needed warning labels.  This function takes several inputs:\n",
    "- `food_type` = one of `\"solid\"` or `\"liquid\"`\n",
    "- `serving_size` = size of one serving (if solid, in grams; if liquid, in milliliters)\n",
    "- `calories_per_serving` = calories in one serving\n",
    "- `saturated_fat_g` = grams of saturated fat in one serving\n",
    "- `trans_fat_g` = grams of trans fat in one serving\n",
    "- `sodium_mg` = mg of sodium in one serving\n",
    "- `sugars_g` = grams of sugar in one serving\n",
    "\n",
    "Note that some of the code here should feel unfamiliar to you, since we have not shared the details of how some of the functions like `excess_sugar()` or `excess_saturated_fat()` work.  But at a high level, these are functions that return a value of `True` if the food is deemed to have an excess of sugar or saturated fat, respectively.  These functions are used within the `get_labels()` function, and whenever there is an excess (of sugar or saturated fat, but also of trans fat, sodium, or calories), it prints the corresponding label."
   ]
  },
  {
   "cell_type": "code",
   "execution_count": 10,
   "id": "52ebf582",
   "metadata": {
    "execution": {
     "iopub.execute_input": "2025-02-25T19:32:16.917068Z",
     "iopub.status.busy": "2025-02-25T19:32:16.916732Z",
     "iopub.status.idle": "2025-02-25T19:32:16.923181Z",
     "shell.execute_reply": "2025-02-25T19:32:16.922421Z"
    },
    "papermill": {
     "duration": 0.014524,
     "end_time": "2025-02-25T19:32:16.924541",
     "exception": false,
     "start_time": "2025-02-25T19:32:16.910017",
     "status": "completed"
    },
    "tags": []
   },
   "outputs": [],
   "source": [
    "# import functions needed to make get_labels work\n",
    "from learntools.intro_to_programming.ex4q5 import excess_sugar, excess_saturated_fat, excess_trans_fat, excess_sodium, excess_calories\n",
    "\n",
    "def get_labels(food_type, serving_size, calories_per_serving, saturated_fat_g, trans_fat_g, sodium_mg, sugars_g):\n",
    "    # Print messages based on findings\n",
    "    if excess_sugar(sugars_g, calories_per_serving) == True:\n",
    "        print(\"EXCESO AZÚCARES / EXCESS SUGAR\")\n",
    "    if excess_saturated_fat(saturated_fat_g, calories_per_serving) == True:\n",
    "        print(\"EXCESO GRASAS SATURADAS / EXCESS SATURATED FAT\")\n",
    "    if excess_trans_fat(trans_fat_g, calories_per_serving) == True:\n",
    "        print(\"EXCESO GRASAS TRANS / EXCESS TRANS FAT\")\n",
    "    if excess_sodium(calories_per_serving, sodium_mg) == True:\n",
    "        print(\"EXCESO SODIO / EXCESS SODIUM\")\n",
    "    if excess_calories(food_type, calories_per_serving, serving_size) == True:\n",
    "        print(\"EXCESO CALORÍAS / EXCESS CALORIES\")"
   ]
  },
  {
   "cell_type": "markdown",
   "id": "ed16cdc1",
   "metadata": {
    "papermill": {
     "duration": 0.006097,
     "end_time": "2025-02-25T19:32:16.936803",
     "exception": false,
     "start_time": "2025-02-25T19:32:16.930706",
     "status": "completed"
    },
    "tags": []
   },
   "source": [
    "The next code cell demonstrates how to use `get_labels()` to get the warning labels that the food item should contain.  We begin with [bologna](https://world.openfoodfacts.org/product/4099100179378/bologna).  Here is [an image](https://storage.googleapis.com/kaggle-media/learn/images/Cfcx72e.png) with all of the nutritional information.  Note that for this food,\n",
    "- `food_type = \"solid\"` (because bologna is a solid and not a liquid)\n",
    "- `serving_size = 32` (the serving size is 32 grams)\n",
    "- `calories_per_serving = 110` (there are 110 calories per serving)\n",
    "- `saturated_fat_g = 2.5` (there are 2.5 grams of saturated fat per serving)\n",
    "- `trans_fat_g = 0` (there are 0 grams of trans fat per serving)\n",
    "- `sodium_mg = 400` (there are 400 mg of sodium per serving)\n",
    "- `sugars_g = 1` (the nutrition facts say <1g, but we will round it up to 1 gram per serving to be safe)\n",
    "\n",
    "By supplying all of these values to the function, we can print the warning labels."
   ]
  },
  {
   "cell_type": "code",
   "execution_count": 11,
   "id": "698a7a0a",
   "metadata": {
    "execution": {
     "iopub.execute_input": "2025-02-25T19:32:16.949714Z",
     "iopub.status.busy": "2025-02-25T19:32:16.949424Z",
     "iopub.status.idle": "2025-02-25T19:32:16.954415Z",
     "shell.execute_reply": "2025-02-25T19:32:16.953389Z"
    },
    "papermill": {
     "duration": 0.013046,
     "end_time": "2025-02-25T19:32:16.955777",
     "exception": false,
     "start_time": "2025-02-25T19:32:16.942731",
     "status": "completed"
    },
    "tags": []
   },
   "outputs": [
    {
     "name": "stdout",
     "output_type": "stream",
     "text": [
      "EXCESO GRASAS SATURADAS / EXCESS SATURATED FAT\n",
      "EXCESO SODIO / EXCESS SODIUM\n",
      "EXCESO CALORÍAS / EXCESS CALORIES\n"
     ]
    }
   ],
   "source": [
    "# bologna https://world.openfoodfacts.org/product/4099100179378/bologna\n",
    "get_labels(\"solid\", 32, 110, 2.5, 0, 400, 1)"
   ]
  },
  {
   "cell_type": "markdown",
   "id": "377272fe",
   "metadata": {
    "papermill": {
     "duration": 0.005995,
     "end_time": "2025-02-25T19:32:16.967996",
     "exception": false,
     "start_time": "2025-02-25T19:32:16.962001",
     "status": "completed"
    },
    "tags": []
   },
   "source": [
    "This bologna has three labels, printed in the output above.\n",
    "\n",
    "For the rest of this question, you will use the same `get_labels()` function to determine the labels for more foods.  This question is designed to help you get practice with feeling comfortable with code that other people have written, and where you don't have time to review every single line of code before interacting with it.  For instance, when you take the [Intro to Machine Learning course](http://www.kaggle.com/learn/intro-to-machine-learning), you'll work with a Python package called \"scikit-learn\", which is a large collection of code that you'll learn how to run without reviewing all of the code in detail (as it would take too long, and you can trust that it was implemented correctly).\n",
    "\n",
    "In general, as you continue coding in Python, you will often be running code that other people have written.  This is common practice for advanced programmers.\n",
    "\n",
    "In the next code cell, fill in the values for [this cereal](https://world.openfoodfacts.org/product/7501008023624/zucaritas-kellogg-s).  Here is [an image](https://storage.googleapis.com/kaggle-media/learn/images/MUxzHVU.png) with all of the nutritional information.\n",
    "\n",
    "**Note**: running the line of code below as-is will return an error.  You have to fill in the nutritional values first."
   ]
  },
  {
   "cell_type": "code",
   "execution_count": 12,
   "id": "4adbf709",
   "metadata": {
    "execution": {
     "iopub.execute_input": "2025-02-25T19:32:16.981576Z",
     "iopub.status.busy": "2025-02-25T19:32:16.981263Z",
     "iopub.status.idle": "2025-02-25T19:32:16.986135Z",
     "shell.execute_reply": "2025-02-25T19:32:16.985352Z"
    },
    "papermill": {
     "duration": 0.013328,
     "end_time": "2025-02-25T19:32:16.987609",
     "exception": false,
     "start_time": "2025-02-25T19:32:16.974281",
     "status": "completed"
    },
    "tags": []
   },
   "outputs": [
    {
     "name": "stdout",
     "output_type": "stream",
     "text": [
      "EXCESO AZÚCARES / EXCESS SUGAR\n",
      "EXCESO SODIO / EXCESS SODIUM\n",
      "EXCESO CALORÍAS / EXCESS CALORIES\n"
     ]
    }
   ],
   "source": [
    "# zucaritas cereal https://world.openfoodfacts.org/product/7501008023624/zucaritas-kellogg-s\n",
    "# TODO: Uncomment the line below, fill in the values, and run the function\n",
    "get_labels(\"solid\", 40, 318, 0, 0, 872, 41)"
   ]
  },
  {
   "cell_type": "markdown",
   "id": "fca83f0e",
   "metadata": {
    "papermill": {
     "duration": 0.005895,
     "end_time": "2025-02-25T19:32:16.999726",
     "exception": false,
     "start_time": "2025-02-25T19:32:16.993831",
     "status": "completed"
    },
    "tags": []
   },
   "source": [
    "Next, try [these mozzarella sticks](https://world-es.openfoodfacts.org/producto/0062325540104/mozzarella-cheese-sticks).  Here is [an image](https://storage.googleapis.com/kaggle-media/learn/images/rcdB7VH.png) with all of the nutritional information."
   ]
  },
  {
   "cell_type": "code",
   "execution_count": 13,
   "id": "0ed8c3dd",
   "metadata": {
    "execution": {
     "iopub.execute_input": "2025-02-25T19:32:17.013127Z",
     "iopub.status.busy": "2025-02-25T19:32:17.012773Z",
     "iopub.status.idle": "2025-02-25T19:32:17.017697Z",
     "shell.execute_reply": "2025-02-25T19:32:17.016886Z"
    },
    "papermill": {
     "duration": 0.013344,
     "end_time": "2025-02-25T19:32:17.019248",
     "exception": false,
     "start_time": "2025-02-25T19:32:17.005904",
     "status": "completed"
    },
    "tags": []
   },
   "outputs": [
    {
     "name": "stdout",
     "output_type": "stream",
     "text": [
      "EXCESO GRASAS SATURADAS / EXCESS SATURATED FAT\n",
      "EXCESO GRASAS TRANS / EXCESS TRANS FAT\n",
      "EXCESO SODIO / EXCESS SODIUM\n",
      "EXCESO CALORÍAS / EXCESS CALORIES\n"
     ]
    }
   ],
   "source": [
    "# mozzarella sticks https://world-es.openfoodfacts.org/producto/0062325540104/mozzarella-cheese-sticks\n",
    "# TODO: Uncomment the line below, fill in the values, and run the function\n",
    "get_labels(\"solid\",21, 68, 3, 0.2, 208, 0)"
   ]
  },
  {
   "cell_type": "markdown",
   "id": "f99422aa",
   "metadata": {
    "papermill": {
     "duration": 0.006233,
     "end_time": "2025-02-25T19:32:17.031932",
     "exception": false,
     "start_time": "2025-02-25T19:32:17.025699",
     "status": "completed"
    },
    "tags": []
   },
   "source": [
    "Feel free to skip to the end of the notebook now and run `q5.check()` to complete the exercise.  If you want to try more foods, \n",
    "- try [these cookies](https://world.openfoodfacts.org/product/0069700118545/biscuits-au-sucre-pretraches).  Here is [an image](https://storage.googleapis.com/kaggle-media/learn/images/2Bc271o.png) with all of the nutritional information.\n",
    "- try [this soda](https://world-es.openfoodfacts.org/producto/0078000113464/orange-soda-sunkist).  Here is [an image](https://storage.googleapis.com/kaggle-media/learn/images/RsBYa8E.png) with all of the nutritional information.\n",
    "\n",
    "Use the two code cells below for this."
   ]
  },
  {
   "cell_type": "code",
   "execution_count": 14,
   "id": "a0ab0b59",
   "metadata": {
    "execution": {
     "iopub.execute_input": "2025-02-25T19:32:17.046792Z",
     "iopub.status.busy": "2025-02-25T19:32:17.046489Z",
     "iopub.status.idle": "2025-02-25T19:32:17.050865Z",
     "shell.execute_reply": "2025-02-25T19:32:17.049979Z"
    },
    "papermill": {
     "duration": 0.014009,
     "end_time": "2025-02-25T19:32:17.052276",
     "exception": false,
     "start_time": "2025-02-25T19:32:17.038267",
     "status": "completed"
    },
    "tags": []
   },
   "outputs": [
    {
     "name": "stdout",
     "output_type": "stream",
     "text": [
      "EXCESO AZÚCARES / EXCESS SUGAR\n",
      "EXCESO GRASAS SATURADAS / EXCESS SATURATED FAT\n",
      "EXCESO CALORÍAS / EXCESS CALORIES\n"
     ]
    }
   ],
   "source": [
    "# pillsbury cookies https://world.openfoodfacts.org/product/0069700118545/biscuits-au-sucre-pretraches\n",
    "# TODO: Uncomment the line below, fill in the values, and run the function\n",
    "get_labels(\"solid\", 30, 120, 1.5, 0.1, 110, 9)"
   ]
  },
  {
   "cell_type": "code",
   "execution_count": 15,
   "id": "9ac5268e",
   "metadata": {
    "execution": {
     "iopub.execute_input": "2025-02-25T19:32:17.066253Z",
     "iopub.status.busy": "2025-02-25T19:32:17.065913Z",
     "iopub.status.idle": "2025-02-25T19:32:17.070479Z",
     "shell.execute_reply": "2025-02-25T19:32:17.069602Z"
    },
    "papermill": {
     "duration": 0.012905,
     "end_time": "2025-02-25T19:32:17.071780",
     "exception": false,
     "start_time": "2025-02-25T19:32:17.058875",
     "status": "completed"
    },
    "tags": []
   },
   "outputs": [
    {
     "name": "stdout",
     "output_type": "stream",
     "text": [
      "EXCESO AZÚCARES / EXCESS SUGAR\n"
     ]
    }
   ],
   "source": [
    "# sunkist orange soda https://world-es.openfoodfacts.org/producto/0078000113464/orange-soda-sunkist\n",
    "# TODO: Uncomment the line below, fill in the values, and run the function\n",
    "get_labels(\"liquid\", 355, 160, 0, 0, 65, 44)"
   ]
  },
  {
   "cell_type": "markdown",
   "id": "31248fc9",
   "metadata": {
    "papermill": {
     "duration": 0.006284,
     "end_time": "2025-02-25T19:32:17.084535",
     "exception": false,
     "start_time": "2025-02-25T19:32:17.078251",
     "status": "completed"
    },
    "tags": []
   },
   "source": [
    "Once you have finished investigating the food items in this question, run the final code cell to get credit for completing this problem."
   ]
  },
  {
   "cell_type": "code",
   "execution_count": 16,
   "id": "cd586f17",
   "metadata": {
    "execution": {
     "iopub.execute_input": "2025-02-25T19:32:17.098500Z",
     "iopub.status.busy": "2025-02-25T19:32:17.098187Z",
     "iopub.status.idle": "2025-02-25T19:32:17.104696Z",
     "shell.execute_reply": "2025-02-25T19:32:17.103801Z"
    },
    "papermill": {
     "duration": 0.015289,
     "end_time": "2025-02-25T19:32:17.106225",
     "exception": false,
     "start_time": "2025-02-25T19:32:17.090936",
     "status": "completed"
    },
    "tags": []
   },
   "outputs": [
    {
     "data": {
      "application/javascript": [
       "parent.postMessage({\"jupyterEvent\": \"custom.exercise_interaction\", \"data\": {\"outcomeType\": 1, \"valueTowardsCompletion\": 0.2, \"interactionType\": 1, \"questionType\": 2, \"questionId\": \"5_GetLabels\", \"learnToolsVersion\": \"0.3.4\", \"failureMessage\": \"\", \"exceptionClass\": \"\", \"trace\": \"\"}}, \"*\")"
      ],
      "text/plain": [
       "<IPython.core.display.Javascript object>"
      ]
     },
     "metadata": {},
     "output_type": "display_data"
    },
    {
     "data": {
      "text/markdown": [
       "<span style=\"color:#33cc33\">Once you have determined the labels for all of the food items, you're ready to move on to the next lesson!</span>"
      ],
      "text/plain": [
       "Once you have determined the labels for all of the food items, you're ready to move on to the next lesson!"
      ]
     },
     "metadata": {},
     "output_type": "display_data"
    }
   ],
   "source": [
    "# Get credit for completing the problem\n",
    "q5.check()"
   ]
  },
  {
   "cell_type": "markdown",
   "id": "d8773346",
   "metadata": {
    "papermill": {
     "duration": 0.006375,
     "end_time": "2025-02-25T19:32:17.119400",
     "exception": false,
     "start_time": "2025-02-25T19:32:17.113025",
     "status": "completed"
    },
    "tags": []
   },
   "source": [
    "# Keep going\n",
    "\n",
    "Continue to the next lesson to **[learn about Python lists](https://www.kaggle.com/alexisbcook/intro-to-lists)**."
   ]
  },
  {
   "cell_type": "markdown",
   "id": "d0f92b8e",
   "metadata": {
    "papermill": {
     "duration": 0.006427,
     "end_time": "2025-02-25T19:32:17.132347",
     "exception": false,
     "start_time": "2025-02-25T19:32:17.125920",
     "status": "completed"
    },
    "tags": []
   },
   "source": [
    "---\n",
    "\n",
    "\n",
    "\n",
    "\n",
    "*Have questions or comments? Visit the [course discussion forum](https://www.kaggle.com/learn/intro-to-programming/discussion) to chat with other learners.*"
   ]
  }
 ],
 "metadata": {
  "kaggle": {
   "accelerator": "none",
   "dataSources": [],
   "isGpuEnabled": false,
   "isInternetEnabled": false,
   "language": "python",
   "sourceType": "notebook"
  },
  "kernelspec": {
   "display_name": "Python 3",
   "language": "python",
   "name": "python3"
  },
  "language_info": {
   "codemirror_mode": {
    "name": "ipython",
    "version": 3
   },
   "file_extension": ".py",
   "mimetype": "text/x-python",
   "name": "python",
   "nbconvert_exporter": "python",
   "pygments_lexer": "ipython3",
   "version": "3.10.12"
  },
  "papermill": {
   "default_parameters": {},
   "duration": 4.313922,
   "end_time": "2025-02-25T19:32:17.656710",
   "environment_variables": {},
   "exception": null,
   "input_path": "__notebook__.ipynb",
   "output_path": "__notebook__.ipynb",
   "parameters": {},
   "start_time": "2025-02-25T19:32:13.342788",
   "version": "2.6.0"
  }
 },
 "nbformat": 4,
 "nbformat_minor": 5
}
